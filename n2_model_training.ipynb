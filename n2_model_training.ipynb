{
 "cells": [
  {
   "cell_type": "markdown",
   "metadata": {},
   "source": [
    "# Predicting Traffic Volume on I-94"
   ]
  },
  {
   "cell_type": "markdown",
   "metadata": {},
   "source": [
    "In this project, I leveraged the insights gained from analyzing hourly traffic volume data in Minneapolis-St Paul, MN, to build a predictive model using Linear Regression and Random Forest regression. \n",
    "\n",
    "The goal was to develop a robust regression model capable of predicting traffic volume for westbound I-94.\n",
    "\n",
    "> This is the second part of this project, you can find the first part on Data Analysis in the Jupyter file; `n1_data_exploration`"
   ]
  },
  {
   "cell_type": "code",
   "execution_count": 1,
   "metadata": {},
   "outputs": [],
   "source": [
    "# Importing Libraries\n",
    "import pandas as pd\n",
    "import numpy as np\n",
    "import matplotlib.pyplot as plt\n",
    "import seaborn as sns\n",
    "\n",
    "import warnings\n",
    "warnings.filterwarnings('ignore')"
   ]
  },
  {
   "cell_type": "code",
   "execution_count": 2,
   "metadata": {},
   "outputs": [
    {
     "data": {
      "text/html": [
       "<div>\n",
       "<style scoped>\n",
       "    .dataframe tbody tr th:only-of-type {\n",
       "        vertical-align: middle;\n",
       "    }\n",
       "\n",
       "    .dataframe tbody tr th {\n",
       "        vertical-align: top;\n",
       "    }\n",
       "\n",
       "    .dataframe thead th {\n",
       "        text-align: right;\n",
       "    }\n",
       "</style>\n",
       "<table border=\"1\" class=\"dataframe\">\n",
       "  <thead>\n",
       "    <tr style=\"text-align: right;\">\n",
       "      <th></th>\n",
       "      <th>holiday</th>\n",
       "      <th>temp</th>\n",
       "      <th>rain_1h</th>\n",
       "      <th>snow_1h</th>\n",
       "      <th>clouds_all</th>\n",
       "      <th>weather_main</th>\n",
       "      <th>weather_description</th>\n",
       "      <th>date_time</th>\n",
       "      <th>traffic_volume</th>\n",
       "      <th>is_daytime</th>\n",
       "      <th>time_of_day</th>\n",
       "      <th>day_of_week</th>\n",
       "      <th>month</th>\n",
       "      <th>year</th>\n",
       "    </tr>\n",
       "  </thead>\n",
       "  <tbody>\n",
       "    <tr>\n",
       "      <th>0</th>\n",
       "      <td>None</td>\n",
       "      <td>288.28</td>\n",
       "      <td>0.0</td>\n",
       "      <td>0.0</td>\n",
       "      <td>40</td>\n",
       "      <td>Clouds</td>\n",
       "      <td>scattered clouds</td>\n",
       "      <td>2012-10-02 09:00:00</td>\n",
       "      <td>5545</td>\n",
       "      <td>Yes</td>\n",
       "      <td>Morning</td>\n",
       "      <td>Tuesday</td>\n",
       "      <td>10</td>\n",
       "      <td>2012</td>\n",
       "    </tr>\n",
       "    <tr>\n",
       "      <th>1</th>\n",
       "      <td>None</td>\n",
       "      <td>289.36</td>\n",
       "      <td>0.0</td>\n",
       "      <td>0.0</td>\n",
       "      <td>75</td>\n",
       "      <td>Clouds</td>\n",
       "      <td>broken clouds</td>\n",
       "      <td>2012-10-02 10:00:00</td>\n",
       "      <td>4516</td>\n",
       "      <td>Yes</td>\n",
       "      <td>Noon</td>\n",
       "      <td>Tuesday</td>\n",
       "      <td>10</td>\n",
       "      <td>2012</td>\n",
       "    </tr>\n",
       "    <tr>\n",
       "      <th>2</th>\n",
       "      <td>None</td>\n",
       "      <td>289.58</td>\n",
       "      <td>0.0</td>\n",
       "      <td>0.0</td>\n",
       "      <td>90</td>\n",
       "      <td>Clouds</td>\n",
       "      <td>overcast clouds</td>\n",
       "      <td>2012-10-02 11:00:00</td>\n",
       "      <td>4767</td>\n",
       "      <td>Yes</td>\n",
       "      <td>Noon</td>\n",
       "      <td>Tuesday</td>\n",
       "      <td>10</td>\n",
       "      <td>2012</td>\n",
       "    </tr>\n",
       "  </tbody>\n",
       "</table>\n",
       "</div>"
      ],
      "text/plain": [
       "  holiday    temp  rain_1h  snow_1h  clouds_all weather_main  \\\n",
       "0    None  288.28      0.0      0.0          40       Clouds   \n",
       "1    None  289.36      0.0      0.0          75       Clouds   \n",
       "2    None  289.58      0.0      0.0          90       Clouds   \n",
       "\n",
       "  weather_description            date_time  traffic_volume is_daytime  \\\n",
       "0    scattered clouds  2012-10-02 09:00:00            5545        Yes   \n",
       "1       broken clouds  2012-10-02 10:00:00            4516        Yes   \n",
       "2     overcast clouds  2012-10-02 11:00:00            4767        Yes   \n",
       "\n",
       "  time_of_day day_of_week  month  year  \n",
       "0     Morning     Tuesday     10  2012  \n",
       "1        Noon     Tuesday     10  2012  \n",
       "2        Noon     Tuesday     10  2012  "
      ]
     },
     "execution_count": 2,
     "metadata": {},
     "output_type": "execute_result"
    }
   ],
   "source": [
    "# Data Introduction\n",
    "df = pd.read_csv('new_interstate.csv', index_col=0, keep_default_na=False, na_values=['NaN'])\n",
    "\n",
    "df.head(3)"
   ]
  },
  {
   "cell_type": "code",
   "execution_count": 3,
   "metadata": {},
   "outputs": [
    {
     "name": "stdout",
     "output_type": "stream",
     "text": [
      "<class 'pandas.core.frame.DataFrame'>\n",
      "Index: 48204 entries, 0 to 48203\n",
      "Data columns (total 14 columns):\n",
      " #   Column               Non-Null Count  Dtype  \n",
      "---  ------               --------------  -----  \n",
      " 0   holiday              48204 non-null  object \n",
      " 1   temp                 48204 non-null  float64\n",
      " 2   rain_1h              48204 non-null  float64\n",
      " 3   snow_1h              48204 non-null  float64\n",
      " 4   clouds_all           48204 non-null  int64  \n",
      " 5   weather_main         48204 non-null  object \n",
      " 6   weather_description  48204 non-null  object \n",
      " 7   date_time            48204 non-null  object \n",
      " 8   traffic_volume       48204 non-null  int64  \n",
      " 9   is_daytime           48204 non-null  object \n",
      " 10  time_of_day          48204 non-null  object \n",
      " 11  day_of_week          48204 non-null  object \n",
      " 12  month                48204 non-null  int64  \n",
      " 13  year                 48204 non-null  int64  \n",
      "dtypes: float64(3), int64(4), object(7)\n",
      "memory usage: 5.5+ MB\n"
     ]
    }
   ],
   "source": [
    "df.info()"
   ]
  },
  {
   "cell_type": "code",
   "execution_count": 4,
   "metadata": {},
   "outputs": [
    {
     "data": {
      "text/html": [
       "<div>\n",
       "<style scoped>\n",
       "    .dataframe tbody tr th:only-of-type {\n",
       "        vertical-align: middle;\n",
       "    }\n",
       "\n",
       "    .dataframe tbody tr th {\n",
       "        vertical-align: top;\n",
       "    }\n",
       "\n",
       "    .dataframe thead th {\n",
       "        text-align: right;\n",
       "    }\n",
       "</style>\n",
       "<table border=\"1\" class=\"dataframe\">\n",
       "  <thead>\n",
       "    <tr style=\"text-align: right;\">\n",
       "      <th></th>\n",
       "      <th>temp</th>\n",
       "      <th>rain_1h</th>\n",
       "      <th>snow_1h</th>\n",
       "      <th>clouds_all</th>\n",
       "      <th>traffic_volume</th>\n",
       "      <th>month</th>\n",
       "      <th>year</th>\n",
       "    </tr>\n",
       "  </thead>\n",
       "  <tbody>\n",
       "    <tr>\n",
       "      <th>count</th>\n",
       "      <td>48204.000000</td>\n",
       "      <td>48204.000000</td>\n",
       "      <td>48204.000000</td>\n",
       "      <td>48204.000000</td>\n",
       "      <td>48204.000000</td>\n",
       "      <td>48204.000000</td>\n",
       "      <td>48204.000000</td>\n",
       "    </tr>\n",
       "    <tr>\n",
       "      <th>mean</th>\n",
       "      <td>281.205870</td>\n",
       "      <td>0.334264</td>\n",
       "      <td>0.000222</td>\n",
       "      <td>49.362231</td>\n",
       "      <td>3259.818355</td>\n",
       "      <td>6.506037</td>\n",
       "      <td>2015.512426</td>\n",
       "    </tr>\n",
       "    <tr>\n",
       "      <th>std</th>\n",
       "      <td>13.338232</td>\n",
       "      <td>44.789133</td>\n",
       "      <td>0.008168</td>\n",
       "      <td>39.015750</td>\n",
       "      <td>1986.860670</td>\n",
       "      <td>3.400221</td>\n",
       "      <td>1.893211</td>\n",
       "    </tr>\n",
       "    <tr>\n",
       "      <th>min</th>\n",
       "      <td>0.000000</td>\n",
       "      <td>0.000000</td>\n",
       "      <td>0.000000</td>\n",
       "      <td>0.000000</td>\n",
       "      <td>0.000000</td>\n",
       "      <td>1.000000</td>\n",
       "      <td>2012.000000</td>\n",
       "    </tr>\n",
       "    <tr>\n",
       "      <th>25%</th>\n",
       "      <td>272.160000</td>\n",
       "      <td>0.000000</td>\n",
       "      <td>0.000000</td>\n",
       "      <td>1.000000</td>\n",
       "      <td>1193.000000</td>\n",
       "      <td>4.000000</td>\n",
       "      <td>2014.000000</td>\n",
       "    </tr>\n",
       "    <tr>\n",
       "      <th>50%</th>\n",
       "      <td>282.450000</td>\n",
       "      <td>0.000000</td>\n",
       "      <td>0.000000</td>\n",
       "      <td>64.000000</td>\n",
       "      <td>3380.000000</td>\n",
       "      <td>7.000000</td>\n",
       "      <td>2016.000000</td>\n",
       "    </tr>\n",
       "    <tr>\n",
       "      <th>75%</th>\n",
       "      <td>291.806000</td>\n",
       "      <td>0.000000</td>\n",
       "      <td>0.000000</td>\n",
       "      <td>90.000000</td>\n",
       "      <td>4933.000000</td>\n",
       "      <td>9.000000</td>\n",
       "      <td>2017.000000</td>\n",
       "    </tr>\n",
       "    <tr>\n",
       "      <th>max</th>\n",
       "      <td>310.070000</td>\n",
       "      <td>9831.300000</td>\n",
       "      <td>0.510000</td>\n",
       "      <td>100.000000</td>\n",
       "      <td>7280.000000</td>\n",
       "      <td>12.000000</td>\n",
       "      <td>2018.000000</td>\n",
       "    </tr>\n",
       "  </tbody>\n",
       "</table>\n",
       "</div>"
      ],
      "text/plain": [
       "               temp       rain_1h       snow_1h    clouds_all  traffic_volume  \\\n",
       "count  48204.000000  48204.000000  48204.000000  48204.000000    48204.000000   \n",
       "mean     281.205870      0.334264      0.000222     49.362231     3259.818355   \n",
       "std       13.338232     44.789133      0.008168     39.015750     1986.860670   \n",
       "min        0.000000      0.000000      0.000000      0.000000        0.000000   \n",
       "25%      272.160000      0.000000      0.000000      1.000000     1193.000000   \n",
       "50%      282.450000      0.000000      0.000000     64.000000     3380.000000   \n",
       "75%      291.806000      0.000000      0.000000     90.000000     4933.000000   \n",
       "max      310.070000   9831.300000      0.510000    100.000000     7280.000000   \n",
       "\n",
       "              month          year  \n",
       "count  48204.000000  48204.000000  \n",
       "mean       6.506037   2015.512426  \n",
       "std        3.400221      1.893211  \n",
       "min        1.000000   2012.000000  \n",
       "25%        4.000000   2014.000000  \n",
       "50%        7.000000   2016.000000  \n",
       "75%        9.000000   2017.000000  \n",
       "max       12.000000   2018.000000  "
      ]
     },
     "execution_count": 4,
     "metadata": {},
     "output_type": "execute_result"
    }
   ],
   "source": [
    "df.describe()"
   ]
  },
  {
   "cell_type": "markdown",
   "metadata": {},
   "source": [
    "The `traffic_volume` column has a minimum entry of 0. From the initial data exploration, we know that this the road was blocked for sometime in 2015 and 2016 due to road maintenance and construction. \n",
    "\n",
    "And during these periods, there were barely any cars on the road."
   ]
  },
  {
   "cell_type": "code",
   "execution_count": 5,
   "metadata": {},
   "outputs": [
    {
     "data": {
      "text/plain": [
       "year\n",
       "2016    57\n",
       "2015     3\n",
       "Name: count, dtype: int64"
      ]
     },
     "execution_count": 5,
     "metadata": {},
     "output_type": "execute_result"
    }
   ],
   "source": [
    "df[df['traffic_volume'] < 100]['year'].value_counts()"
   ]
  },
  {
   "cell_type": "code",
   "execution_count": 6,
   "metadata": {},
   "outputs": [
    {
     "data": {
      "text/plain": [
       "60"
      ]
     },
     "execution_count": 6,
     "metadata": {},
     "output_type": "execute_result"
    }
   ],
   "source": [
    "len(df[df['traffic_volume'] < 100])"
   ]
  },
  {
   "cell_type": "markdown",
   "metadata": {},
   "source": [
    "For the predictions, I will be using only data for 2012, 2013, 2014, 2017, 2018, and some parts of 2015 and 2016. This is the records during the road construction are outliers and will not help the model learn the data properly.\n",
    "\n",
    "So, I'll proceed by dropping records with extremely low traffic volume (less than 100). There are only 60 entries that mee this condition, and they all fall in 2015 and 2016, which were probably during the road constuction."
   ]
  },
  {
   "cell_type": "code",
   "execution_count": 7,
   "metadata": {},
   "outputs": [
    {
     "data": {
      "text/plain": [
       "count    48144.000000\n",
       "mean      3263.867751\n",
       "std       1984.782284\n",
       "min        100.000000\n",
       "25%       1200.000000\n",
       "50%       3385.000000\n",
       "75%       4934.000000\n",
       "max       7280.000000\n",
       "Name: traffic_volume, dtype: float64"
      ]
     },
     "execution_count": 7,
     "metadata": {},
     "output_type": "execute_result"
    }
   ],
   "source": [
    "# Drop rows where traffic volume is less than 100\n",
    "df = df.drop(df[df['traffic_volume'] < 100].index)\n",
    "\n",
    "df.traffic_volume.describe()"
   ]
  },
  {
   "cell_type": "markdown",
   "metadata": {},
   "source": [
    "### Create new columns"
   ]
  },
  {
   "cell_type": "markdown",
   "metadata": {},
   "source": [
    "From the data exploration, I discovered that:\n",
    "\n",
    "Time is the major traffic indicator on the I-94. The data tells us that;\n",
    "* Traffic is usually heaviest during warm months (March to October) and lowest to cold months (November to February).\n",
    "* Traffic is usually heavier on weekdays compared to weekends.\n",
    "* On weekdays, the pick rush hours are around 7AM and 4PM.\n",
    "\n",
    "From the discoveries above, I'll create 2 new columns;\n",
    "* `is_weekday`: A column that splits the dataset into weekdays and weekends\n",
    "* `is_rush`: A column that identifies peak rush hours. \n",
    "\n",
    "An optional column that identifies each season of the year, since seasons seem to affect traffic volume. This is an optional I might explore later. \n",
    "* Spring months: March, April, May\n",
    "* Summer months: June, July, August\n",
    "* Fall months: September, October, November\n",
    "* Winter months: December, January, February"
   ]
  },
  {
   "cell_type": "code",
   "execution_count": 8,
   "metadata": {},
   "outputs": [
    {
     "data": {
      "text/plain": [
       "is_weekday\n",
       "Yes    34489\n",
       "No     13655\n",
       "Name: count, dtype: int64"
      ]
     },
     "execution_count": 8,
     "metadata": {},
     "output_type": "execute_result"
    }
   ],
   "source": [
    "# Convert `date_time` column to datetime\n",
    "df['date_time'] = pd.to_datetime(df['date_time'])\n",
    "\n",
    "# Create 'is_weekday' column\n",
    "df['is_weekday'] = 'Yes'\n",
    "\n",
    "df.loc[(df['day_of_week'] == 'Saturday') | (df['day_of_week'] == 'Sunday'), 'is_weekday'] = 'No'\n",
    "\n",
    "df['is_weekday'].value_counts(dropna=False)"
   ]
  },
  {
   "cell_type": "code",
   "execution_count": 9,
   "metadata": {},
   "outputs": [
    {
     "data": {
      "text/plain": [
       "is_rush_hour\n",
       "No     36636\n",
       "Yes    11508\n",
       "Name: count, dtype: int64"
      ]
     },
     "execution_count": 9,
     "metadata": {},
     "output_type": "execute_result"
    }
   ],
   "source": [
    "# Create a column for rush_hour\n",
    "df['is_rush_hour'] = 'No'\n",
    "\n",
    "# Label morning rush hour (between 6am and 9am)\n",
    "df.loc[(df['is_weekday'] == 'Yes') & (df['date_time'].dt.hour >= 6) & (df['date_time'].dt.hour <= 9), 'is_rush_hour'] = 'Yes'\n",
    "\n",
    "# Label late afternoon rush hour (between 3pm and 6pm)\n",
    "df.loc[(df['is_weekday'] == 'Yes') & (df['date_time'].dt.hour >= 15) & (df['date_time'].dt.hour <= 18), 'is_rush_hour'] = 'Yes'\n",
    "\n",
    "df['is_rush_hour'].value_counts(dropna=False)"
   ]
  },
  {
   "cell_type": "code",
   "execution_count": 10,
   "metadata": {},
   "outputs": [
    {
     "data": {
      "text/plain": [
       "day_of_week\n",
       "Monday       2373\n",
       "Wednesday    2327\n",
       "Thursday     2283\n",
       "Friday       2278\n",
       "Tuesday      2247\n",
       "Name: count, dtype: int64"
      ]
     },
     "execution_count": 10,
     "metadata": {},
     "output_type": "execute_result"
    }
   ],
   "source": [
    "df[df['is_rush_hour'] == 'Yes']['day_of_week'].value_counts()"
   ]
  },
  {
   "cell_type": "code",
   "execution_count": 11,
   "metadata": {},
   "outputs": [
    {
     "data": {
      "text/plain": [
       "season\n",
       "Summer    12893\n",
       "Spring    12488\n",
       "Winter    11781\n",
       "Fall      10982\n",
       "Name: count, dtype: int64"
      ]
     },
     "execution_count": 11,
     "metadata": {},
     "output_type": "execute_result"
    }
   ],
   "source": [
    "df['season'] = pd.Series()\n",
    "\n",
    "df.loc[(df['month'] >= 3) & (df['month'] <= 5), 'season'] = 'Spring'\n",
    "df.loc[(df['month'] >= 6) & (df['month'] <= 8), 'season'] = 'Summer'\n",
    "df.loc[(df['month'] >= 9) & (df['month'] <= 11), 'season'] = 'Fall'\n",
    "df.loc[(df['month'] <= 2) | (df['month'] == 12), 'season'] = 'Winter'\n",
    "\n",
    "df['season'].value_counts(dropna=False)"
   ]
  },
  {
   "cell_type": "code",
   "execution_count": 12,
   "metadata": {},
   "outputs": [
    {
     "data": {
      "text/html": [
       "<div>\n",
       "<style scoped>\n",
       "    .dataframe tbody tr th:only-of-type {\n",
       "        vertical-align: middle;\n",
       "    }\n",
       "\n",
       "    .dataframe tbody tr th {\n",
       "        vertical-align: top;\n",
       "    }\n",
       "\n",
       "    .dataframe thead th {\n",
       "        text-align: right;\n",
       "    }\n",
       "</style>\n",
       "<table border=\"1\" class=\"dataframe\">\n",
       "  <thead>\n",
       "    <tr style=\"text-align: right;\">\n",
       "      <th></th>\n",
       "      <th>holiday</th>\n",
       "      <th>temp</th>\n",
       "      <th>rain_1h</th>\n",
       "      <th>snow_1h</th>\n",
       "      <th>clouds_all</th>\n",
       "      <th>weather_main</th>\n",
       "      <th>weather_description</th>\n",
       "      <th>date_time</th>\n",
       "      <th>traffic_volume</th>\n",
       "      <th>is_daytime</th>\n",
       "      <th>time_of_day</th>\n",
       "      <th>day_of_week</th>\n",
       "      <th>month</th>\n",
       "      <th>year</th>\n",
       "      <th>is_weekday</th>\n",
       "      <th>is_rush_hour</th>\n",
       "      <th>season</th>\n",
       "    </tr>\n",
       "  </thead>\n",
       "  <tbody>\n",
       "    <tr>\n",
       "      <th>0</th>\n",
       "      <td>None</td>\n",
       "      <td>288.28</td>\n",
       "      <td>0.0</td>\n",
       "      <td>0.0</td>\n",
       "      <td>40</td>\n",
       "      <td>Clouds</td>\n",
       "      <td>scattered clouds</td>\n",
       "      <td>2012-10-02 09:00:00</td>\n",
       "      <td>5545</td>\n",
       "      <td>Yes</td>\n",
       "      <td>Morning</td>\n",
       "      <td>Tuesday</td>\n",
       "      <td>10</td>\n",
       "      <td>2012</td>\n",
       "      <td>Yes</td>\n",
       "      <td>Yes</td>\n",
       "      <td>Fall</td>\n",
       "    </tr>\n",
       "    <tr>\n",
       "      <th>1</th>\n",
       "      <td>None</td>\n",
       "      <td>289.36</td>\n",
       "      <td>0.0</td>\n",
       "      <td>0.0</td>\n",
       "      <td>75</td>\n",
       "      <td>Clouds</td>\n",
       "      <td>broken clouds</td>\n",
       "      <td>2012-10-02 10:00:00</td>\n",
       "      <td>4516</td>\n",
       "      <td>Yes</td>\n",
       "      <td>Noon</td>\n",
       "      <td>Tuesday</td>\n",
       "      <td>10</td>\n",
       "      <td>2012</td>\n",
       "      <td>Yes</td>\n",
       "      <td>No</td>\n",
       "      <td>Fall</td>\n",
       "    </tr>\n",
       "    <tr>\n",
       "      <th>2</th>\n",
       "      <td>None</td>\n",
       "      <td>289.58</td>\n",
       "      <td>0.0</td>\n",
       "      <td>0.0</td>\n",
       "      <td>90</td>\n",
       "      <td>Clouds</td>\n",
       "      <td>overcast clouds</td>\n",
       "      <td>2012-10-02 11:00:00</td>\n",
       "      <td>4767</td>\n",
       "      <td>Yes</td>\n",
       "      <td>Noon</td>\n",
       "      <td>Tuesday</td>\n",
       "      <td>10</td>\n",
       "      <td>2012</td>\n",
       "      <td>Yes</td>\n",
       "      <td>No</td>\n",
       "      <td>Fall</td>\n",
       "    </tr>\n",
       "  </tbody>\n",
       "</table>\n",
       "</div>"
      ],
      "text/plain": [
       "  holiday    temp  rain_1h  snow_1h  clouds_all weather_main  \\\n",
       "0    None  288.28      0.0      0.0          40       Clouds   \n",
       "1    None  289.36      0.0      0.0          75       Clouds   \n",
       "2    None  289.58      0.0      0.0          90       Clouds   \n",
       "\n",
       "  weather_description           date_time  traffic_volume is_daytime  \\\n",
       "0    scattered clouds 2012-10-02 09:00:00            5545        Yes   \n",
       "1       broken clouds 2012-10-02 10:00:00            4516        Yes   \n",
       "2     overcast clouds 2012-10-02 11:00:00            4767        Yes   \n",
       "\n",
       "  time_of_day day_of_week  month  year is_weekday is_rush_hour season  \n",
       "0     Morning     Tuesday     10  2012        Yes          Yes   Fall  \n",
       "1        Noon     Tuesday     10  2012        Yes           No   Fall  \n",
       "2        Noon     Tuesday     10  2012        Yes           No   Fall  "
      ]
     },
     "execution_count": 12,
     "metadata": {},
     "output_type": "execute_result"
    }
   ],
   "source": [
    "df.head(3)"
   ]
  },
  {
   "cell_type": "markdown",
   "metadata": {},
   "source": [
    "### Create dummy variables for categorical features"
   ]
  },
  {
   "cell_type": "code",
   "execution_count": 13,
   "metadata": {},
   "outputs": [
    {
     "data": {
      "text/html": [
       "<div>\n",
       "<style scoped>\n",
       "    .dataframe tbody tr th:only-of-type {\n",
       "        vertical-align: middle;\n",
       "    }\n",
       "\n",
       "    .dataframe tbody tr th {\n",
       "        vertical-align: top;\n",
       "    }\n",
       "\n",
       "    .dataframe thead th {\n",
       "        text-align: right;\n",
       "    }\n",
       "</style>\n",
       "<table border=\"1\" class=\"dataframe\">\n",
       "  <thead>\n",
       "    <tr style=\"text-align: right;\">\n",
       "      <th></th>\n",
       "      <th>temp</th>\n",
       "      <th>rain_1h</th>\n",
       "      <th>snow_1h</th>\n",
       "      <th>clouds_all</th>\n",
       "      <th>weather_main</th>\n",
       "      <th>date_time</th>\n",
       "      <th>traffic_volume</th>\n",
       "      <th>is_daytime</th>\n",
       "      <th>time_of_day</th>\n",
       "      <th>day_of_week</th>\n",
       "      <th>month</th>\n",
       "      <th>year</th>\n",
       "      <th>is_weekday</th>\n",
       "      <th>is_rush_hour</th>\n",
       "      <th>season</th>\n",
       "    </tr>\n",
       "  </thead>\n",
       "  <tbody>\n",
       "    <tr>\n",
       "      <th>0</th>\n",
       "      <td>288.28</td>\n",
       "      <td>0.0</td>\n",
       "      <td>0.0</td>\n",
       "      <td>40</td>\n",
       "      <td>Clouds</td>\n",
       "      <td>2012-10-02 09:00:00</td>\n",
       "      <td>5545</td>\n",
       "      <td>Yes</td>\n",
       "      <td>Morning</td>\n",
       "      <td>Tuesday</td>\n",
       "      <td>10</td>\n",
       "      <td>2012</td>\n",
       "      <td>Yes</td>\n",
       "      <td>Yes</td>\n",
       "      <td>Fall</td>\n",
       "    </tr>\n",
       "    <tr>\n",
       "      <th>1</th>\n",
       "      <td>289.36</td>\n",
       "      <td>0.0</td>\n",
       "      <td>0.0</td>\n",
       "      <td>75</td>\n",
       "      <td>Clouds</td>\n",
       "      <td>2012-10-02 10:00:00</td>\n",
       "      <td>4516</td>\n",
       "      <td>Yes</td>\n",
       "      <td>Noon</td>\n",
       "      <td>Tuesday</td>\n",
       "      <td>10</td>\n",
       "      <td>2012</td>\n",
       "      <td>Yes</td>\n",
       "      <td>No</td>\n",
       "      <td>Fall</td>\n",
       "    </tr>\n",
       "    <tr>\n",
       "      <th>2</th>\n",
       "      <td>289.58</td>\n",
       "      <td>0.0</td>\n",
       "      <td>0.0</td>\n",
       "      <td>90</td>\n",
       "      <td>Clouds</td>\n",
       "      <td>2012-10-02 11:00:00</td>\n",
       "      <td>4767</td>\n",
       "      <td>Yes</td>\n",
       "      <td>Noon</td>\n",
       "      <td>Tuesday</td>\n",
       "      <td>10</td>\n",
       "      <td>2012</td>\n",
       "      <td>Yes</td>\n",
       "      <td>No</td>\n",
       "      <td>Fall</td>\n",
       "    </tr>\n",
       "  </tbody>\n",
       "</table>\n",
       "</div>"
      ],
      "text/plain": [
       "     temp  rain_1h  snow_1h  clouds_all weather_main           date_time  \\\n",
       "0  288.28      0.0      0.0          40       Clouds 2012-10-02 09:00:00   \n",
       "1  289.36      0.0      0.0          75       Clouds 2012-10-02 10:00:00   \n",
       "2  289.58      0.0      0.0          90       Clouds 2012-10-02 11:00:00   \n",
       "\n",
       "   traffic_volume is_daytime time_of_day day_of_week  month  year is_weekday  \\\n",
       "0            5545        Yes     Morning     Tuesday     10  2012        Yes   \n",
       "1            4516        Yes        Noon     Tuesday     10  2012        Yes   \n",
       "2            4767        Yes        Noon     Tuesday     10  2012        Yes   \n",
       "\n",
       "  is_rush_hour season  \n",
       "0          Yes   Fall  \n",
       "1           No   Fall  \n",
       "2           No   Fall  "
      ]
     },
     "execution_count": 13,
     "metadata": {},
     "output_type": "execute_result"
    }
   ],
   "source": [
    "# Remove the holiday and weather_description columns\n",
    "df = df[['temp', 'rain_1h', 'snow_1h', 'clouds_all', 'weather_main',\n",
    "       'date_time', 'traffic_volume', 'is_daytime',\n",
    "       'time_of_day', 'day_of_week', 'month', 'year', 'is_weekday',\n",
    "       'is_rush_hour', 'season']]\n",
    "\n",
    "df.head(3)"
   ]
  },
  {
   "cell_type": "code",
   "execution_count": 14,
   "metadata": {},
   "outputs": [
    {
     "data": {
      "text/html": [
       "<div>\n",
       "<style scoped>\n",
       "    .dataframe tbody tr th:only-of-type {\n",
       "        vertical-align: middle;\n",
       "    }\n",
       "\n",
       "    .dataframe tbody tr th {\n",
       "        vertical-align: top;\n",
       "    }\n",
       "\n",
       "    .dataframe thead th {\n",
       "        text-align: right;\n",
       "    }\n",
       "</style>\n",
       "<table border=\"1\" class=\"dataframe\">\n",
       "  <thead>\n",
       "    <tr style=\"text-align: right;\">\n",
       "      <th></th>\n",
       "      <th>weather_main</th>\n",
       "      <th>is_daytime</th>\n",
       "      <th>time_of_day</th>\n",
       "      <th>day_of_week</th>\n",
       "      <th>is_weekday</th>\n",
       "      <th>is_rush_hour</th>\n",
       "      <th>season</th>\n",
       "    </tr>\n",
       "  </thead>\n",
       "  <tbody>\n",
       "    <tr>\n",
       "      <th>count</th>\n",
       "      <td>48144</td>\n",
       "      <td>48144</td>\n",
       "      <td>48144</td>\n",
       "      <td>48144</td>\n",
       "      <td>48144</td>\n",
       "      <td>48144</td>\n",
       "      <td>48144</td>\n",
       "    </tr>\n",
       "    <tr>\n",
       "      <th>unique</th>\n",
       "      <td>11</td>\n",
       "      <td>2</td>\n",
       "      <td>7</td>\n",
       "      <td>7</td>\n",
       "      <td>2</td>\n",
       "      <td>2</td>\n",
       "      <td>4</td>\n",
       "    </tr>\n",
       "    <tr>\n",
       "      <th>top</th>\n",
       "      <td>Clouds</td>\n",
       "      <td>No</td>\n",
       "      <td>Night</td>\n",
       "      <td>Monday</td>\n",
       "      <td>Yes</td>\n",
       "      <td>No</td>\n",
       "      <td>Summer</td>\n",
       "    </tr>\n",
       "    <tr>\n",
       "      <th>freq</th>\n",
       "      <td>15150</td>\n",
       "      <td>24293</td>\n",
       "      <td>12138</td>\n",
       "      <td>7072</td>\n",
       "      <td>34489</td>\n",
       "      <td>36636</td>\n",
       "      <td>12893</td>\n",
       "    </tr>\n",
       "  </tbody>\n",
       "</table>\n",
       "</div>"
      ],
      "text/plain": [
       "       weather_main is_daytime time_of_day day_of_week is_weekday  \\\n",
       "count         48144      48144       48144       48144      48144   \n",
       "unique           11          2           7           7          2   \n",
       "top          Clouds         No       Night      Monday        Yes   \n",
       "freq          15150      24293       12138        7072      34489   \n",
       "\n",
       "       is_rush_hour  season  \n",
       "count         48144   48144  \n",
       "unique            2       4  \n",
       "top              No  Summer  \n",
       "freq          36636   12893  "
      ]
     },
     "execution_count": 14,
     "metadata": {},
     "output_type": "execute_result"
    }
   ],
   "source": [
    "df.select_dtypes(include='O').describe()"
   ]
  },
  {
   "cell_type": "code",
   "execution_count": 15,
   "metadata": {},
   "outputs": [
    {
     "data": {
      "text/html": [
       "<div>\n",
       "<style scoped>\n",
       "    .dataframe tbody tr th:only-of-type {\n",
       "        vertical-align: middle;\n",
       "    }\n",
       "\n",
       "    .dataframe tbody tr th {\n",
       "        vertical-align: top;\n",
       "    }\n",
       "\n",
       "    .dataframe thead th {\n",
       "        text-align: right;\n",
       "    }\n",
       "</style>\n",
       "<table border=\"1\" class=\"dataframe\">\n",
       "  <thead>\n",
       "    <tr style=\"text-align: right;\">\n",
       "      <th></th>\n",
       "      <th>temp</th>\n",
       "      <th>rain_1h</th>\n",
       "      <th>snow_1h</th>\n",
       "      <th>clouds_all</th>\n",
       "      <th>date_time</th>\n",
       "      <th>traffic_volume</th>\n",
       "      <th>month</th>\n",
       "      <th>year</th>\n",
       "      <th>weather_main_Clouds</th>\n",
       "      <th>weather_main_Drizzle</th>\n",
       "      <th>...</th>\n",
       "      <th>day_of_week_Saturday</th>\n",
       "      <th>day_of_week_Sunday</th>\n",
       "      <th>day_of_week_Thursday</th>\n",
       "      <th>day_of_week_Tuesday</th>\n",
       "      <th>day_of_week_Wednesday</th>\n",
       "      <th>is_weekday_Yes</th>\n",
       "      <th>is_rush_hour_Yes</th>\n",
       "      <th>season_Spring</th>\n",
       "      <th>season_Summer</th>\n",
       "      <th>season_Winter</th>\n",
       "    </tr>\n",
       "  </thead>\n",
       "  <tbody>\n",
       "    <tr>\n",
       "      <th>27151</th>\n",
       "      <td>283.896</td>\n",
       "      <td>0.0</td>\n",
       "      <td>0.0</td>\n",
       "      <td>92</td>\n",
       "      <td>2016-10-06 22:00:00</td>\n",
       "      <td>1669</td>\n",
       "      <td>10</td>\n",
       "      <td>2016</td>\n",
       "      <td>0</td>\n",
       "      <td>0</td>\n",
       "      <td>...</td>\n",
       "      <td>0</td>\n",
       "      <td>0</td>\n",
       "      <td>1</td>\n",
       "      <td>0</td>\n",
       "      <td>0</td>\n",
       "      <td>1</td>\n",
       "      <td>0</td>\n",
       "      <td>0</td>\n",
       "      <td>0</td>\n",
       "      <td>0</td>\n",
       "    </tr>\n",
       "    <tr>\n",
       "      <th>24202</th>\n",
       "      <td>292.310</td>\n",
       "      <td>0.0</td>\n",
       "      <td>0.0</td>\n",
       "      <td>88</td>\n",
       "      <td>2016-06-15 08:00:00</td>\n",
       "      <td>6315</td>\n",
       "      <td>6</td>\n",
       "      <td>2016</td>\n",
       "      <td>1</td>\n",
       "      <td>0</td>\n",
       "      <td>...</td>\n",
       "      <td>0</td>\n",
       "      <td>0</td>\n",
       "      <td>0</td>\n",
       "      <td>0</td>\n",
       "      <td>1</td>\n",
       "      <td>1</td>\n",
       "      <td>1</td>\n",
       "      <td>0</td>\n",
       "      <td>1</td>\n",
       "      <td>0</td>\n",
       "    </tr>\n",
       "    <tr>\n",
       "      <th>25564</th>\n",
       "      <td>299.920</td>\n",
       "      <td>0.0</td>\n",
       "      <td>0.0</td>\n",
       "      <td>0</td>\n",
       "      <td>2016-08-07 18:00:00</td>\n",
       "      <td>4350</td>\n",
       "      <td>8</td>\n",
       "      <td>2016</td>\n",
       "      <td>0</td>\n",
       "      <td>0</td>\n",
       "      <td>...</td>\n",
       "      <td>0</td>\n",
       "      <td>1</td>\n",
       "      <td>0</td>\n",
       "      <td>0</td>\n",
       "      <td>0</td>\n",
       "      <td>0</td>\n",
       "      <td>0</td>\n",
       "      <td>0</td>\n",
       "      <td>1</td>\n",
       "      <td>0</td>\n",
       "    </tr>\n",
       "  </tbody>\n",
       "</table>\n",
       "<p>3 rows × 36 columns</p>\n",
       "</div>"
      ],
      "text/plain": [
       "          temp  rain_1h  snow_1h  clouds_all           date_time  \\\n",
       "27151  283.896      0.0      0.0          92 2016-10-06 22:00:00   \n",
       "24202  292.310      0.0      0.0          88 2016-06-15 08:00:00   \n",
       "25564  299.920      0.0      0.0           0 2016-08-07 18:00:00   \n",
       "\n",
       "       traffic_volume  month  year  weather_main_Clouds  weather_main_Drizzle  \\\n",
       "27151            1669     10  2016                    0                     0   \n",
       "24202            6315      6  2016                    1                     0   \n",
       "25564            4350      8  2016                    0                     0   \n",
       "\n",
       "       ...  day_of_week_Saturday  day_of_week_Sunday  day_of_week_Thursday  \\\n",
       "27151  ...                     0                   0                     1   \n",
       "24202  ...                     0                   0                     0   \n",
       "25564  ...                     0                   1                     0   \n",
       "\n",
       "       day_of_week_Tuesday  day_of_week_Wednesday  is_weekday_Yes  \\\n",
       "27151                    0                      0               1   \n",
       "24202                    0                      1               1   \n",
       "25564                    0                      0               0   \n",
       "\n",
       "       is_rush_hour_Yes  season_Spring  season_Summer  season_Winter  \n",
       "27151                 0              0              0              0  \n",
       "24202                 1              0              1              0  \n",
       "25564                 0              0              1              0  \n",
       "\n",
       "[3 rows x 36 columns]"
      ]
     },
     "execution_count": 15,
     "metadata": {},
     "output_type": "execute_result"
    }
   ],
   "source": [
    "# Create dummy variables\n",
    "df = pd.get_dummies(df, drop_first=True, dtype=int)\n",
    "\n",
    "df.sample(3)"
   ]
  },
  {
   "cell_type": "markdown",
   "metadata": {},
   "source": [
    "## Feature Selection"
   ]
  },
  {
   "cell_type": "markdown",
   "metadata": {},
   "source": [
    "### Checking for correlations between variables"
   ]
  },
  {
   "cell_type": "code",
   "execution_count": 16,
   "metadata": {},
   "outputs": [
    {
     "data": {
      "text/plain": [
       "<Axes: >"
      ]
     },
     "execution_count": 16,
     "metadata": {},
     "output_type": "execute_result"
    },
    {
     "data": {
      "image/png": "[encoded data removed]",
      "text/plain": [
       "<Figure size 720x936 with 2 Axes>"
      ]
     },
     "metadata": {
      "needs_background": "light"
     },
     "output_type": "display_data"
    }
   ],
   "source": [
    "corr_matrix = df.corr()\n",
    "\n",
    "# Isolate the column corresponding to `exam_score`\n",
    "corr_target = corr_matrix[['traffic_volume']].drop(labels=['traffic_volume'])\n",
    "\n",
    "plt.figure(figsize=(10,13))\n",
    "sns.heatmap(corr_target, annot=True, fmt='.3', cmap='RdBu_r')"
   ]
  },
  {
   "cell_type": "markdown",
   "metadata": {},
   "source": [
    "From the chart above, the features with the highest correlation with the target variable are `is_daytime_yes`, `is_rush_hour_yes`, and `time_of_day_night`, which has a negative correlation.\n",
    "\n",
    "Since most of the features are not correlated with the target variable, a linear regression model is propably not the best model for this data. \n",
    "\n",
    "Next, I'll check for multicollinearity amongst the features that most correlate with the target variable."
   ]
  },
  {
   "cell_type": "markdown",
   "metadata": {},
   "source": [
    "### Checking for Multicollinearity with VIF"
   ]
  },
  {
   "cell_type": "code",
   "execution_count": 17,
   "metadata": {},
   "outputs": [],
   "source": [
    "from statsmodels.stats.outliers_influence import variance_inflation_factor"
   ]
  },
  {
   "cell_type": "code",
   "execution_count": 18,
   "metadata": {},
   "outputs": [],
   "source": [
    "def calculate_vif(df):\n",
    "    vif = pd.DataFrame()\n",
    "    vif['features'] = df.columns\n",
    "    vif['vif_value'] = [variance_inflation_factor(df.values, i) for i in range(df.shape[1])]\n",
    "    return vif"
   ]
  },
  {
   "cell_type": "code",
   "execution_count": 19,
   "metadata": {},
   "outputs": [
    {
     "data": {
      "text/html": [
       "<div>\n",
       "<style scoped>\n",
       "    .dataframe tbody tr th:only-of-type {\n",
       "        vertical-align: middle;\n",
       "    }\n",
       "\n",
       "    .dataframe tbody tr th {\n",
       "        vertical-align: top;\n",
       "    }\n",
       "\n",
       "    .dataframe thead th {\n",
       "        text-align: right;\n",
       "    }\n",
       "</style>\n",
       "<table border=\"1\" class=\"dataframe\">\n",
       "  <thead>\n",
       "    <tr style=\"text-align: right;\">\n",
       "      <th></th>\n",
       "      <th>features</th>\n",
       "      <th>vif_value</th>\n",
       "    </tr>\n",
       "  </thead>\n",
       "  <tbody>\n",
       "    <tr>\n",
       "      <th>0</th>\n",
       "      <td>temp</td>\n",
       "      <td>2.685889</td>\n",
       "    </tr>\n",
       "    <tr>\n",
       "      <th>1</th>\n",
       "      <td>rain_1h</td>\n",
       "      <td>1.000621</td>\n",
       "    </tr>\n",
       "    <tr>\n",
       "      <th>2</th>\n",
       "      <td>snow_1h</td>\n",
       "      <td>1.007085</td>\n",
       "    </tr>\n",
       "    <tr>\n",
       "      <th>3</th>\n",
       "      <td>clouds_all</td>\n",
       "      <td>2.637464</td>\n",
       "    </tr>\n",
       "    <tr>\n",
       "      <th>4</th>\n",
       "      <td>month</td>\n",
       "      <td>1.794734</td>\n",
       "    </tr>\n",
       "    <tr>\n",
       "      <th>5</th>\n",
       "      <td>year</td>\n",
       "      <td>1.084058</td>\n",
       "    </tr>\n",
       "    <tr>\n",
       "      <th>6</th>\n",
       "      <td>weather_main_Clouds</td>\n",
       "      <td>2.899870</td>\n",
       "    </tr>\n",
       "    <tr>\n",
       "      <th>7</th>\n",
       "      <td>weather_main_Drizzle</td>\n",
       "      <td>1.506891</td>\n",
       "    </tr>\n",
       "    <tr>\n",
       "      <th>8</th>\n",
       "      <td>weather_main_Fog</td>\n",
       "      <td>1.141069</td>\n",
       "    </tr>\n",
       "    <tr>\n",
       "      <th>9</th>\n",
       "      <td>weather_main_Haze</td>\n",
       "      <td>1.231341</td>\n",
       "    </tr>\n",
       "    <tr>\n",
       "      <th>10</th>\n",
       "      <td>weather_main_Mist</td>\n",
       "      <td>2.058712</td>\n",
       "    </tr>\n",
       "    <tr>\n",
       "      <th>11</th>\n",
       "      <td>weather_main_Rain</td>\n",
       "      <td>2.208756</td>\n",
       "    </tr>\n",
       "    <tr>\n",
       "      <th>12</th>\n",
       "      <td>weather_main_Smoke</td>\n",
       "      <td>1.004616</td>\n",
       "    </tr>\n",
       "    <tr>\n",
       "      <th>13</th>\n",
       "      <td>weather_main_Snow</td>\n",
       "      <td>1.792645</td>\n",
       "    </tr>\n",
       "    <tr>\n",
       "      <th>14</th>\n",
       "      <td>weather_main_Squall</td>\n",
       "      <td>1.001513</td>\n",
       "    </tr>\n",
       "    <tr>\n",
       "      <th>15</th>\n",
       "      <td>weather_main_Thunderstorm</td>\n",
       "      <td>1.251355</td>\n",
       "    </tr>\n",
       "    <tr>\n",
       "      <th>16</th>\n",
       "      <td>is_daytime_Yes</td>\n",
       "      <td>inf</td>\n",
       "    </tr>\n",
       "    <tr>\n",
       "      <th>17</th>\n",
       "      <td>time_of_day_Early Morning</td>\n",
       "      <td>inf</td>\n",
       "    </tr>\n",
       "    <tr>\n",
       "      <th>18</th>\n",
       "      <td>time_of_day_Evening</td>\n",
       "      <td>1.960478</td>\n",
       "    </tr>\n",
       "    <tr>\n",
       "      <th>19</th>\n",
       "      <td>time_of_day_Late Evening</td>\n",
       "      <td>inf</td>\n",
       "    </tr>\n",
       "    <tr>\n",
       "      <th>20</th>\n",
       "      <td>time_of_day_Morning</td>\n",
       "      <td>2.056182</td>\n",
       "    </tr>\n",
       "    <tr>\n",
       "      <th>21</th>\n",
       "      <td>time_of_day_Night</td>\n",
       "      <td>inf</td>\n",
       "    </tr>\n",
       "    <tr>\n",
       "      <th>22</th>\n",
       "      <td>time_of_day_Noon</td>\n",
       "      <td>1.434824</td>\n",
       "    </tr>\n",
       "    <tr>\n",
       "      <th>23</th>\n",
       "      <td>day_of_week_Monday</td>\n",
       "      <td>1.742272</td>\n",
       "    </tr>\n",
       "    <tr>\n",
       "      <th>24</th>\n",
       "      <td>day_of_week_Saturday</td>\n",
       "      <td>inf</td>\n",
       "    </tr>\n",
       "    <tr>\n",
       "      <th>25</th>\n",
       "      <td>day_of_week_Sunday</td>\n",
       "      <td>inf</td>\n",
       "    </tr>\n",
       "    <tr>\n",
       "      <th>26</th>\n",
       "      <td>day_of_week_Thursday</td>\n",
       "      <td>1.716586</td>\n",
       "    </tr>\n",
       "    <tr>\n",
       "      <th>27</th>\n",
       "      <td>day_of_week_Tuesday</td>\n",
       "      <td>1.719790</td>\n",
       "    </tr>\n",
       "    <tr>\n",
       "      <th>28</th>\n",
       "      <td>day_of_week_Wednesday</td>\n",
       "      <td>1.726560</td>\n",
       "    </tr>\n",
       "    <tr>\n",
       "      <th>29</th>\n",
       "      <td>is_weekday_Yes</td>\n",
       "      <td>inf</td>\n",
       "    </tr>\n",
       "    <tr>\n",
       "      <th>30</th>\n",
       "      <td>is_rush_hour_Yes</td>\n",
       "      <td>2.410798</td>\n",
       "    </tr>\n",
       "    <tr>\n",
       "      <th>31</th>\n",
       "      <td>season_Spring</td>\n",
       "      <td>2.634739</td>\n",
       "    </tr>\n",
       "    <tr>\n",
       "      <th>32</th>\n",
       "      <td>season_Summer</td>\n",
       "      <td>2.228256</td>\n",
       "    </tr>\n",
       "    <tr>\n",
       "      <th>33</th>\n",
       "      <td>season_Winter</td>\n",
       "      <td>3.040217</td>\n",
       "    </tr>\n",
       "  </tbody>\n",
       "</table>\n",
       "</div>"
      ],
      "text/plain": [
       "                     features  vif_value\n",
       "0                        temp   2.685889\n",
       "1                     rain_1h   1.000621\n",
       "2                     snow_1h   1.007085\n",
       "3                  clouds_all   2.637464\n",
       "4                       month   1.794734\n",
       "5                        year   1.084058\n",
       "6         weather_main_Clouds   2.899870\n",
       "7        weather_main_Drizzle   1.506891\n",
       "8            weather_main_Fog   1.141069\n",
       "9           weather_main_Haze   1.231341\n",
       "10          weather_main_Mist   2.058712\n",
       "11          weather_main_Rain   2.208756\n",
       "12         weather_main_Smoke   1.004616\n",
       "13          weather_main_Snow   1.792645\n",
       "14        weather_main_Squall   1.001513\n",
       "15  weather_main_Thunderstorm   1.251355\n",
       "16             is_daytime_Yes        inf\n",
       "17  time_of_day_Early Morning        inf\n",
       "18        time_of_day_Evening   1.960478\n",
       "19   time_of_day_Late Evening        inf\n",
       "20        time_of_day_Morning   2.056182\n",
       "21          time_of_day_Night        inf\n",
       "22           time_of_day_Noon   1.434824\n",
       "23         day_of_week_Monday   1.742272\n",
       "24       day_of_week_Saturday        inf\n",
       "25         day_of_week_Sunday        inf\n",
       "26       day_of_week_Thursday   1.716586\n",
       "27        day_of_week_Tuesday   1.719790\n",
       "28      day_of_week_Wednesday   1.726560\n",
       "29             is_weekday_Yes        inf\n",
       "30           is_rush_hour_Yes   2.410798\n",
       "31              season_Spring   2.634739\n",
       "32              season_Summer   2.228256\n",
       "33              season_Winter   3.040217"
      ]
     },
     "execution_count": 19,
     "metadata": {},
     "output_type": "execute_result"
    }
   ],
   "source": [
    "features = df.drop(['traffic_volume', 'date_time'], axis=1)\n",
    "\n",
    "calculate_vif(features)"
   ]
  },
  {
   "cell_type": "markdown",
   "metadata": {},
   "source": [
    "Some of the features are perfectly correlated with each other (meaning that there's multi-collinearity in the data). This makes sense because I created some of the features from other features, therefore they contain similar information. \n",
    "\n",
    "I'll recalculate the VIF using only features that seem to have some correlation with the target variable `traffic_volume`."
   ]
  },
  {
   "cell_type": "code",
   "execution_count": 20,
   "metadata": {},
   "outputs": [
    {
     "data": {
      "text/html": [
       "<div>\n",
       "<style scoped>\n",
       "    .dataframe tbody tr th:only-of-type {\n",
       "        vertical-align: middle;\n",
       "    }\n",
       "\n",
       "    .dataframe tbody tr th {\n",
       "        vertical-align: top;\n",
       "    }\n",
       "\n",
       "    .dataframe thead th {\n",
       "        text-align: right;\n",
       "    }\n",
       "</style>\n",
       "<table border=\"1\" class=\"dataframe\">\n",
       "  <thead>\n",
       "    <tr style=\"text-align: right;\">\n",
       "      <th></th>\n",
       "      <th>features</th>\n",
       "      <th>vif_value</th>\n",
       "    </tr>\n",
       "  </thead>\n",
       "  <tbody>\n",
       "    <tr>\n",
       "      <th>0</th>\n",
       "      <td>is_daytime_Yes</td>\n",
       "      <td>6.073288</td>\n",
       "    </tr>\n",
       "    <tr>\n",
       "      <th>1</th>\n",
       "      <td>time_of_day_Early Morning</td>\n",
       "      <td>1.772032</td>\n",
       "    </tr>\n",
       "    <tr>\n",
       "      <th>2</th>\n",
       "      <td>time_of_day_Evening</td>\n",
       "      <td>1.958691</td>\n",
       "    </tr>\n",
       "    <tr>\n",
       "      <th>3</th>\n",
       "      <td>time_of_day_Late Evening</td>\n",
       "      <td>1.829332</td>\n",
       "    </tr>\n",
       "    <tr>\n",
       "      <th>4</th>\n",
       "      <td>time_of_day_Morning</td>\n",
       "      <td>1.989223</td>\n",
       "    </tr>\n",
       "    <tr>\n",
       "      <th>5</th>\n",
       "      <td>time_of_day_Night</td>\n",
       "      <td>2.701487</td>\n",
       "    </tr>\n",
       "    <tr>\n",
       "      <th>6</th>\n",
       "      <td>time_of_day_Noon</td>\n",
       "      <td>1.424976</td>\n",
       "    </tr>\n",
       "    <tr>\n",
       "      <th>7</th>\n",
       "      <td>is_weekday_Yes</td>\n",
       "      <td>1.303450</td>\n",
       "    </tr>\n",
       "    <tr>\n",
       "      <th>8</th>\n",
       "      <td>is_rush_hour_Yes</td>\n",
       "      <td>2.410225</td>\n",
       "    </tr>\n",
       "    <tr>\n",
       "      <th>9</th>\n",
       "      <td>season_Spring</td>\n",
       "      <td>1.582946</td>\n",
       "    </tr>\n",
       "    <tr>\n",
       "      <th>10</th>\n",
       "      <td>season_Summer</td>\n",
       "      <td>1.592215</td>\n",
       "    </tr>\n",
       "    <tr>\n",
       "      <th>11</th>\n",
       "      <td>season_Winter</td>\n",
       "      <td>1.565929</td>\n",
       "    </tr>\n",
       "  </tbody>\n",
       "</table>\n",
       "</div>"
      ],
      "text/plain": [
       "                     features  vif_value\n",
       "0              is_daytime_Yes   6.073288\n",
       "1   time_of_day_Early Morning   1.772032\n",
       "2         time_of_day_Evening   1.958691\n",
       "3    time_of_day_Late Evening   1.829332\n",
       "4         time_of_day_Morning   1.989223\n",
       "5           time_of_day_Night   2.701487\n",
       "6            time_of_day_Noon   1.424976\n",
       "7              is_weekday_Yes   1.303450\n",
       "8            is_rush_hour_Yes   2.410225\n",
       "9               season_Spring   1.582946\n",
       "10              season_Summer   1.592215\n",
       "11              season_Winter   1.565929"
      ]
     },
     "execution_count": 20,
     "metadata": {},
     "output_type": "execute_result"
    }
   ],
   "source": [
    "features = df[['is_daytime_Yes', 'time_of_day_Early Morning', 'time_of_day_Evening',\n",
    "       'time_of_day_Late Evening', 'time_of_day_Morning', 'time_of_day_Night',\n",
    "       'time_of_day_Noon', 'is_weekday_Yes', 'is_rush_hour_Yes', 'season_Spring', 'season_Summer', 'season_Winter']]\n",
    "\n",
    "calculate_vif(features)"
   ]
  },
  {
   "cell_type": "markdown",
   "metadata": {},
   "source": [
    "### "
   ]
  },
  {
   "cell_type": "markdown",
   "metadata": {},
   "source": [
    "## Model Selection"
   ]
  },
  {
   "cell_type": "markdown",
   "metadata": {},
   "source": [
    "### Training a Baseline Model with Linear Regression"
   ]
  },
  {
   "cell_type": "code",
   "execution_count": 21,
   "metadata": {},
   "outputs": [],
   "source": [
    "#from sklearn.model_selection import train_test_split\n",
    "from sklearn.linear_model import LinearRegression\n",
    "from sklearn.metrics import mean_squared_error"
   ]
  },
  {
   "cell_type": "code",
   "execution_count": 29,
   "metadata": {},
   "outputs": [],
   "source": [
    "# Defining functions to split data and evaluate model performance\n",
    "\n",
    "def split_data(df, predictors):\n",
    "    X_train = df[df['year'] <= 2016][predictors]\n",
    "    y_train = df[df['year'] <= 2016]['traffic_volume']\n",
    "\n",
    "    X_test = df[df['year'] > 2016][predictors]\n",
    "    y_test = df[df['year'] > 2016]['traffic_volume']\n",
    "\n",
    "    return X_train, y_train, X_test, y_test\n",
    "\n",
    "\n",
    "def evaluate_model(model, X_train, y_train, X_test, y_test):\n",
    "    train_pred = model.predict(X_train)\n",
    "\n",
    "    global predictions\n",
    "    predictions = model.predict(X_test)\n",
    "    \n",
    "    mse_train = mean_squared_error(y_train, train_pred)\n",
    "    rmse_train = np.sqrt(mse_train).round(2)\n",
    "\n",
    "    mse_test = mean_squared_error(y_test, predictions)\n",
    "    rmse_test = np.sqrt(mse_test).round(2)\n",
    "    return [rmse_train, rmse_test]"
   ]
  },
  {
   "cell_type": "code",
   "execution_count": 24,
   "metadata": {},
   "outputs": [
    {
     "data": {
      "text/plain": [
       "count    29590.000000\n",
       "mean      3237.338966\n",
       "std       1986.649852\n",
       "min        100.000000\n",
       "25%       1177.000000\n",
       "50%       3323.500000\n",
       "75%       4923.000000\n",
       "max       7260.000000\n",
       "Name: traffic_volume, dtype: float64"
      ]
     },
     "execution_count": 24,
     "metadata": {},
     "output_type": "execute_result"
    }
   ],
   "source": [
    "df[df['year'] <= 2016]['traffic_volume'].describe()"
   ]
  },
  {
   "cell_type": "code",
   "execution_count": 25,
   "metadata": {},
   "outputs": [
    {
     "data": {
      "text/plain": [
       "count    18554.000000\n",
       "mean      3306.175973\n",
       "std       1981.118811\n",
       "min        151.000000\n",
       "25%       1253.250000\n",
       "50%       3476.000000\n",
       "75%       4951.750000\n",
       "max       7280.000000\n",
       "Name: traffic_volume, dtype: float64"
      ]
     },
     "execution_count": 25,
     "metadata": {},
     "output_type": "execute_result"
    }
   ],
   "source": [
    "df[df['year'] > 2016]['traffic_volume'].describe()"
   ]
  },
  {
   "cell_type": "code",
   "execution_count": 28,
   "metadata": {},
   "outputs": [
    {
     "name": "stdout",
     "output_type": "stream",
     "text": [
      "RMSE for the train dataset: 871.01\n",
      "\n",
      "RMSE for the test dataset: 873.97\n"
     ]
    },
    {
     "data": {
      "text/plain": [
       "Text(0.5, 1.0, 'Distribution of Errors')"
      ]
     },
     "execution_count": 28,
     "metadata": {},
     "output_type": "execute_result"
    },
    {
     "data": {
      "image/png": "[encoded data removed]",
      "text/plain": [
       "<Figure size 432x288 with 1 Axes>"
      ]
     },
     "metadata": {
      "needs_background": "light"
     },
     "output_type": "display_data"
    }
   ],
   "source": [
    "# Select predictors\n",
    "predictors = ['is_daytime_Yes', 'time_of_day_Early Morning', 'time_of_day_Evening',\n",
    "       'time_of_day_Late Evening', 'time_of_day_Morning', 'time_of_day_Night',\n",
    "       'time_of_day_Noon', 'is_weekday_Yes', 'is_rush_hour_Yes', 'season_Spring', 'season_Summer', 'season_Winter']\n",
    "\n",
    "# Split the data\n",
    "X_train, y_train, X_test, y_test = split_data(df, predictors)\n",
    "\n",
    "# Fit the model\n",
    "lr = LinearRegression()\n",
    "lr.fit(X_train, y_train)\n",
    "\n",
    "# Evaluate the model\n",
    "print(f\"RMSE for the train dataset: {evaluate_model(lr, X_train, y_train, X_test, y_test)[0]}\")\n",
    "\n",
    "print(f\"\\nRMSE for the test dataset: {evaluate_model(lr, X_train, y_train, X_test, y_test)[1]}\")\n",
    "\n",
    "# Plot distribution of errors\n",
    "sns.kdeplot(y_test-predictions)\n",
    "plt.title('Distribution of Errors')\n"
   ]
  },
  {
   "cell_type": "markdown",
   "metadata": {},
   "source": [
    "## Training a Random Forest Regression Model"
   ]
  },
  {
   "cell_type": "markdown",
   "metadata": {},
   "source": [
    "#### Feature Selection using Extra Trees Regressor"
   ]
  },
  {
   "cell_type": "code",
   "execution_count": 36,
   "metadata": {},
   "outputs": [
    {
     "data": {
      "image/png": "[encoded data removed]",
      "text/plain": [
       "<Figure size 720x540 with 1 Axes>"
      ]
     },
     "metadata": {
      "needs_background": "light"
     },
     "output_type": "display_data"
    }
   ],
   "source": [
    "# Feature selection with Embedding method using Extra Trees\n",
    "from sklearn.ensemble import ExtraTreesRegressor\n",
    " \n",
    "# Load the data\n",
    "predictors =['temp', 'rain_1h', 'snow_1h', 'clouds_all', 'weather_main_Clouds',\n",
    "       'weather_main_Drizzle', 'weather_main_Fog', 'weather_main_Haze',\n",
    "       'weather_main_Mist', 'weather_main_Rain', 'weather_main_Smoke',\n",
    "       'weather_main_Snow', 'weather_main_Squall', 'weather_main_Thunderstorm',\n",
    "       'is_daytime_Yes', 'time_of_day_Early Morning', 'time_of_day_Evening',\n",
    "       'time_of_day_Late Evening', 'time_of_day_Morning', 'time_of_day_Night',\n",
    "       'time_of_day_Noon', 'day_of_week_Monday', 'day_of_week_Saturday',\n",
    "       'day_of_week_Sunday', 'day_of_week_Thursday', 'day_of_week_Tuesday',\n",
    "       'day_of_week_Wednesday', 'is_weekday_Yes', 'is_rush_hour_Yes', 'season_Spring', 'season_Summer', 'season_Winter']\n",
    "       \n",
    "# Split the data\n",
    "X_train = df[df['year'] <= 2016][predictors]\n",
    "y_train = df[df['year'] <= 2016]['traffic_volume']\n",
    "\n",
    "# Fit the model\n",
    "selector = ExtraTreesRegressor()\n",
    "selector.fit(X_train, y_train)\n",
    "\n",
    "# Check feature importance # the importance of the features is stored inside the feature_importances_\n",
    "f_i = list(zip(X_train.columns, selector.feature_importances_))\n",
    "f_i.sort(key = lambda x : x[1])\n",
    "\n",
    "plt.figure(figsize=(10,7.5))\n",
    "plt.barh([x[0] for x in f_i],[x[1] for x in f_i])\n",
    "\n",
    "plt.show()"
   ]
  },
  {
   "cell_type": "code",
   "execution_count": 31,
   "metadata": {},
   "outputs": [
    {
     "name": "stdout",
     "output_type": "stream",
     "text": [
      "RMSE for the train dataset: 467.2\n",
      "\n",
      "RMSE for the test dataset: 861.07\n"
     ]
    },
    {
     "data": {
      "text/plain": [
       "Text(0.5, 1.0, 'Distribution of Errors')"
      ]
     },
     "execution_count": 31,
     "metadata": {},
     "output_type": "execute_result"
    },
    {
     "data": {
      "image/png": "[encoded data removed]",
      "text/plain": [
       "<Figure size 432x288 with 1 Axes>"
      ]
     },
     "metadata": {
      "needs_background": "light"
     },
     "output_type": "display_data"
    }
   ],
   "source": [
    "from sklearn.ensemble import RandomForestRegressor\n",
    "\n",
    "# Load the data\n",
    "predictors = ['temp', 'is_daytime_Yes', 'rain_1h', 'clouds_all','time_of_day_Late Evening', \n",
    "             'time_of_day_Morning', 'is_weekday_Yes', 'is_rush_hour_Yes', 'season_Winter']\n",
    "\n",
    "# Split the data\n",
    "X_train, y_train, X_test, y_test = split_data(df, predictors)\n",
    "\n",
    "# Fit the model\n",
    "rf = RandomForestRegressor(n_estimators=200, random_state=1, min_samples_leaf=2)\n",
    "rf.fit(X_train, y_train)\n",
    "\n",
    "# Evaluate the model\n",
    "print(f\"RMSE for the train dataset: {evaluate_model(rf, X_train, y_train, X_test, y_test)[0]}\")\n",
    "print(f\"\\nRMSE for the test dataset: {evaluate_model(rf, X_train, y_train, X_test, y_test)[1]}\")\n",
    "\n",
    "# Plot distribution of errors\n",
    "sns.kdeplot(y_test-predictions)\n",
    "plt.title('Distribution of Errors')\n"
   ]
  },
  {
   "cell_type": "markdown",
   "metadata": {},
   "source": [
    "By looking at the errors for the train and test data, I can tell that the model is overfitting because the performance of the model on the training dataset is significantly better than the performance on the test dataset.\n",
    "\n",
    "This is something that can be corrected by tuning or optimizing the hyperparameters. I'll do this in the following models. "
   ]
  },
  {
   "cell_type": "code",
   "execution_count": 32,
   "metadata": {},
   "outputs": [
    {
     "name": "stdout",
     "output_type": "stream",
     "text": [
      "RMSE for the train dataset: 760.91\n",
      "\n",
      "RMSE for the test dataset: 780.04\n"
     ]
    },
    {
     "data": {
      "text/plain": [
       "Text(0.5, 1.0, 'Distribution of Errors')"
      ]
     },
     "execution_count": 32,
     "metadata": {},
     "output_type": "execute_result"
    },
    {
     "data": {
      "image/png": "[encoded data removed]",
      "text/plain": [
       "<Figure size 432x288 with 1 Axes>"
      ]
     },
     "metadata": {
      "needs_background": "light"
     },
     "output_type": "display_data"
    }
   ],
   "source": [
    "# Load the data\n",
    "predictors = ['temp', 'is_daytime_Yes', 'rain_1h', 'clouds_all','time_of_day_Late Evening', \n",
    "             'time_of_day_Morning', 'is_weekday_Yes', 'is_rush_hour_Yes', 'season_Winter']\n",
    "\n",
    "\n",
    "# Split the data\n",
    "X_train, y_train, X_test, y_test = split_data(df, predictors)\n",
    "\n",
    "# Fit the model\n",
    "rf2 = RandomForestRegressor(n_estimators=200, random_state=1, max_depth=6, min_samples_leaf=2)\n",
    "rf2.fit(X_train, y_train)\n",
    "\n",
    "# Evaluate the model\n",
    "print(f\"RMSE for the train dataset: {evaluate_model(rf2, X_train, y_train, X_test, y_test)[0]}\")\n",
    "print(f\"\\nRMSE for the test dataset: {evaluate_model(rf2, X_train, y_train, X_test, y_test)[1]}\")\n",
    "\n",
    "# Plot distribution of errors\n",
    "sns.kdeplot(y_test-predictions)\n",
    "plt.title('Distribution of Errors')\n"
   ]
  },
  {
   "cell_type": "code",
   "execution_count": 33,
   "metadata": {},
   "outputs": [
    {
     "name": "stdout",
     "output_type": "stream",
     "text": [
      "RMSE for the train dataset: 760.36\n",
      "\n",
      "RMSE for the test dataset: 777.42\n"
     ]
    },
    {
     "data": {
      "text/plain": [
       "Text(0.5, 1.0, 'Distribution of Errors')"
      ]
     },
     "execution_count": 33,
     "metadata": {},
     "output_type": "execute_result"
    },
    {
     "data": {
      "image/png": "[encoded data removed]",
      "text/plain": [
       "<Figure size 432x288 with 1 Axes>"
      ]
     },
     "metadata": {
      "needs_background": "light"
     },
     "output_type": "display_data"
    }
   ],
   "source": [
    "# Load the data\n",
    "predictors = ['temp', 'is_daytime_Yes', 'clouds_all','time_of_day_Late Evening', \n",
    "             'time_of_day_Morning', 'is_weekday_Yes', 'is_rush_hour_Yes', 'season_Winter']\n",
    "\n",
    "\n",
    "# Split the data\n",
    "X_train, y_train, X_test, y_test = split_data(df, predictors)\n",
    "\n",
    "# Fit the model\n",
    "rf3 = RandomForestRegressor(n_estimators=350, random_state=1, max_depth=8, bootstrap=True, max_samples=1000, min_samples_leaf=2)\n",
    "rf3.fit(X_train, y_train)\n",
    "\n",
    "# Evaluate the model\n",
    "print(f\"RMSE for the train dataset: {evaluate_model(rf3, X_train, y_train, X_test, y_test)[0]}\")\n",
    "print(f\"\\nRMSE for the test dataset: {evaluate_model(rf3, X_train, y_train, X_test, y_test)[1]}\")\n",
    "\n",
    "# Plot distribution of errors\n",
    "sns.kdeplot(y_test-predictions)\n",
    "plt.title('Distribution of Errors')"
   ]
  },
  {
   "cell_type": "code",
   "execution_count": 34,
   "metadata": {},
   "outputs": [
    {
     "name": "stdout",
     "output_type": "stream",
     "text": [
      "RMSE for the train dataset: 771.73\n",
      "\n",
      "RMSE for the test dataset: 778.71\n"
     ]
    },
    {
     "data": {
      "text/plain": [
       "Text(0.5, 1.0, 'Distribution of Errors')"
      ]
     },
     "execution_count": 34,
     "metadata": {},
     "output_type": "execute_result"
    },
    {
     "data": {
      "image/png": "[encoded data removed]",
      "text/plain": [
       "<Figure size 432x288 with 1 Axes>"
      ]
     },
     "metadata": {
      "needs_background": "light"
     },
     "output_type": "display_data"
    }
   ],
   "source": [
    "# Load the data\n",
    "predictors = ['temp', 'is_daytime_Yes', 'clouds_all','time_of_day_Late Evening', \n",
    "             'time_of_day_Morning', 'is_weekday_Yes', 'is_rush_hour_Yes', 'season_Winter']\n",
    "\n",
    "\n",
    "# Split the data\n",
    "X_train, y_train, X_test, y_test = split_data(df, predictors)\n",
    "\n",
    "# Fit the model\n",
    "rf4 = RandomForestRegressor(n_estimators=350, random_state=1, max_depth=6, bootstrap=True, max_samples=1000, max_features=4, min_samples_leaf=2)\n",
    "rf4.fit(X_train, y_train)\n",
    "\n",
    "# Evaluate the model\n",
    "print(f\"RMSE for the train dataset: {evaluate_model(rf4, X_train, y_train, X_test, y_test)[0]}\")\n",
    "print(f\"\\nRMSE for the test dataset: {evaluate_model(rf4, X_train, y_train, X_test, y_test)[1]}\")\n",
    "\n",
    "# Plot distribution of errors\n",
    "sns.kdeplot(y_test-predictions)\n",
    "plt.title('Distribution of Errors')"
   ]
  },
  {
   "cell_type": "markdown",
   "metadata": {},
   "source": [
    "### Hyperparameter Optimization"
   ]
  },
  {
   "cell_type": "code",
   "execution_count": null,
   "metadata": {},
   "outputs": [],
   "source": [
    "from sklearn.model_selection import RandomizedSearchCV\n",
    "\n",
    "# Number of trees in random forest\n",
    "n_estimators = [int(i) for i in range(100, 510, 50)]\n",
    "\n",
    "# Number of features to consider at every split\n",
    "max_features = ['auto', 'sqrt']\n",
    "\n",
    "# Maximum number of levels in tree\n",
    "max_depth = [int(i) for i in range(4, 21, 1)]\n",
    "# max_depth.append(None)\n",
    "\n",
    "# Minimum number of samples required to split a node\n",
    "min_samples_split = [2, 5, 10, 15, 100]\n",
    "\n",
    "# Minimum number of samples required at each leaf node\n",
    "min_samples_leaf = [1, 2, 5, 10]\n",
    "\n",
    "# Create the random grid\n",
    "random_grid = {'n_estimators': n_estimators,\n",
    "               'max_features': max_features,\n",
    "               'max_depth': max_depth}\n",
    "\n",
    "random_grid2 = {'n_estimators': n_estimators,\n",
    "               'max_features': max_features,\n",
    "               'max_depth': max_depth,\n",
    "               'min_samples_split': min_samples_split}"
   ]
  },
  {
   "cell_type": "code",
   "execution_count": null,
   "metadata": {},
   "outputs": [],
   "source": [
    "# Load the data\n",
    "predictors = ['temp', 'is_daytime_Yes', 'month', 'clouds_all','time_of_day_Late Evening', \n",
    "             'time_of_day_Morning', 'is_weekday_Yes', 'is_rush_hour_Yes']\n",
    "\n",
    "\n",
    "X = df[predictors]\n",
    "y = df['traffic_volume']\n",
    "\n",
    "# Split the data\n",
    "X_train = df[df['year'] <= 2013][predictors]\n",
    "y_train = df[df['year'] <= 2013]['traffic_volume']\n",
    "\n",
    "#X_test = df[df['year'] > 2015][predictors]\n",
    "#y_test = df[df['year'] > 2015]['traffic_volume']\n",
    "\n",
    "rf = RandomForestRegressor()\n",
    "\n",
    "# Using randomized search\n",
    "rf_random = RandomizedSearchCV(estimator = rf, param_distributions = random_grid,\n",
    "                               scoring='neg_mean_squared_error', cv = 5, verbose=3, random_state=42, n_jobs = 1)\n",
    "\n",
    "# Fit the data\n",
    "rf_random.fit(X_train, y_train)"
   ]
  },
  {
   "cell_type": "code",
   "execution_count": null,
   "metadata": {},
   "outputs": [],
   "source": [
    "rf_random.best_score_"
   ]
  },
  {
   "cell_type": "code",
   "execution_count": null,
   "metadata": {},
   "outputs": [],
   "source": [
    "rf_random.best_params_"
   ]
  },
  {
   "cell_type": "markdown",
   "metadata": {},
   "source": [
    "## Training an Extra Trees Regression Model"
   ]
  },
  {
   "cell_type": "code",
   "execution_count": 37,
   "metadata": {},
   "outputs": [
    {
     "name": "stdout",
     "output_type": "stream",
     "text": [
      "RMSE for the train dataset: 764.52\n",
      "\n",
      "RMSE for the test dataset: 778.56\n"
     ]
    },
    {
     "data": {
      "text/plain": [
       "Text(0.5, 1.0, 'Distribution of Errors')"
      ]
     },
     "execution_count": 37,
     "metadata": {},
     "output_type": "execute_result"
    },
    {
     "data": {
      "image/png": "[encoded data removed]",
      "text/plain": [
       "<Figure size 432x288 with 1 Axes>"
      ]
     },
     "metadata": {
      "needs_background": "light"
     },
     "output_type": "display_data"
    }
   ],
   "source": [
    "# Load the data\n",
    "predictors = ['temp', 'is_daytime_Yes', 'clouds_all','time_of_day_Late Evening', \n",
    "             'time_of_day_Morning', 'is_weekday_Yes', 'is_rush_hour_Yes', 'season_Winter']\n",
    "\n",
    "\n",
    "# Split the data\n",
    "X_train, y_train, X_test, y_test = split_data(df, predictors)\n",
    "\n",
    "# Fit the model\n",
    "et = ExtraTreesRegressor(n_estimators=350, max_depth=9, min_samples_leaf=2, bootstrap=True, max_samples=1000)\n",
    "et.fit(X_train, y_train)\n",
    "\n",
    "# Evaluate the model\n",
    "print(f\"RMSE for the train dataset: {evaluate_model(et, X_train, y_train, X_test, y_test)[0]}\")\n",
    "print(f\"\\nRMSE for the test dataset: {evaluate_model(et, X_train, y_train, X_test, y_test)[1]}\")\n",
    "\n",
    "# Plot distribution of errors\n",
    "sns.kdeplot(y_test-predictions)\n",
    "plt.title('Distribution of Errors')"
   ]
  },
  {
   "cell_type": "markdown",
   "metadata": {},
   "source": [
    "The Extra Trees Model did not perform any better than the Random Forest models. \n",
    "\n",
    "The best model so far is the 3rd Random Forest Model with a root mean square erro of 777.42 on the test data. "
   ]
  },
  {
   "cell_type": "markdown",
   "metadata": {},
   "source": [
    "## Summary"
   ]
  },
  {
   "cell_type": "markdown",
   "metadata": {},
   "source": [
    "#### Baseline Linear Regression Model:\n",
    "* `Model Build`: I first built a baseline regression model using linear regression.\n",
    "\n",
    "* `Model Performance`: The root mean squared error (RMSE) of the baseline linear regression model, when evaluated on the test data, is 873.97.\n",
    "\n",
    "* `Interpretation`: An RMSE of 873.97 indicates the average magnitude of the differences between the predicted and actual traffic volume values. Lower RMSE values suggest better predictive accuracy.\n",
    "\n",
    "#### Random Forest Regression Model:\n",
    "* `Model Build`: Subsequently, I developed a better model using Random Forest regression.\n",
    "* `Model Performance`: The Random Forest model's RMSE on the test data is 777.04, and 760.38 on the train data, which shows that the model did not overfit.\n",
    "   * The RMSE measures the typical difference between the model's predictions and actual traffic volume values.\n",
    "   * Compared to the baseline linear regression model, the Random Forest model achieved a lower RMSE, implying that it provides more accurate predictions on average.\n",
    "\n",
    "* `Error Distribution`: The errors range from a minimum of -4000 (under-predicting actual volume) to a maximum of 4000 (over-predicting actual volume).\n",
    "   * The error distribution of -4000 to 4000 implies that the Random Forest model's predictions can deviate from the actual values by up to 4000 units in either direction.\n",
    "   * However, the symmetric distribution around 0 indicates that the model tends to both under-predict and over-predict in a balanced way."
   ]
  }
 ],
 "metadata": {
  "kernelspec": {
   "display_name": "Python 3",
   "language": "python",
   "name": "python3"
  },
  "language_info": {
   "codemirror_mode": {
    "name": "ipython",
    "version": 3
   },
   "file_extension": ".py",
   "mimetype": "text/x-python",
   "name": "python",
   "nbconvert_exporter": "python",
   "pygments_lexer": "ipython3",
   "version": "3.9.0"
  },
  "orig_nbformat": 4
 },
 "nbformat": 4,
 "nbformat_minor": 2
}
