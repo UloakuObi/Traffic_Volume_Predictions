{
 "cells": [
  {
   "cell_type": "markdown",
   "metadata": {},
   "source": [
    "# Exploratory Data Analysis of Traffic Dataset on the I-94 Highway\n",
    "\n",
    "This project focuses on analyzing the hourly traffic volume data for westbound I-94 in Minneapolis-St. Paul, MN, spanning from 2012 to 2018. This dataset contains not only traffic volume but also includes weather and holiday-related features. \n",
    "\n",
    "My primary objective is to identify key indicators of heavy traffic on this stretch of the I-94 Interstate highway. The aim is to uncover patterns that contribute to increased traffic congestion by investigating various factors such as weather conditions, time of day, and day of the week."
   ]
  },
  {
   "cell_type": "markdown",
   "metadata": {},
   "source": [
    "## Data Dictionary\n",
    "* `holiday` Categorical US National holidays plus regional holiday, Minnesota State Fair\n",
    "* `temp` Numeric Average temp in kelvin\n",
    "* `rain_1h` Numeric Amount in mm of rain that occurred in the hour\n",
    "* `snow_1h` Numeric Amount in mm of snow that occurred in the hour\n",
    "* `clouds_all` Numeric Percentage of cloud cover\n",
    "* `weather_main` Categorical Short textual description of the current weather\n",
    "* `weather_description` Categorical Longer textual description of the current weather\n",
    "* `date_time` DateTime Hour of the data collected in local CST time\n",
    "* `traffic_volume` Numeric Hourly I-94 ATR 301 reported westbound traffic volume"
   ]
  },
  {
   "cell_type": "markdown",
   "metadata": {},
   "source": [
    "## Part 1: Data Exploration"
   ]
  },
  {
   "cell_type": "code",
   "execution_count": 1,
   "metadata": {},
   "outputs": [],
   "source": [
    "# Importing Libraries\n",
    "import pandas as pd\n",
    "import matplotlib.pyplot as plt\n",
    "import seaborn as sns\n",
    "\n",
    "import warnings\n",
    "warnings.filterwarnings('ignore')"
   ]
  },
  {
   "cell_type": "markdown",
   "metadata": {},
   "source": [
    "### 1.1: Basic Data Exploration"
   ]
  },
  {
   "cell_type": "code",
   "execution_count": 40,
   "metadata": {},
   "outputs": [
    {
     "data": {
      "text/html": [
       "<div>\n",
       "<style scoped>\n",
       "    .dataframe tbody tr th:only-of-type {\n",
       "        vertical-align: middle;\n",
       "    }\n",
       "\n",
       "    .dataframe tbody tr th {\n",
       "        vertical-align: top;\n",
       "    }\n",
       "\n",
       "    .dataframe thead th {\n",
       "        text-align: right;\n",
       "    }\n",
       "</style>\n",
       "<table border=\"1\" class=\"dataframe\">\n",
       "  <thead>\n",
       "    <tr style=\"text-align: right;\">\n",
       "      <th></th>\n",
       "      <th>holiday</th>\n",
       "      <th>temp</th>\n",
       "      <th>rain_1h</th>\n",
       "      <th>snow_1h</th>\n",
       "      <th>clouds_all</th>\n",
       "      <th>weather_main</th>\n",
       "      <th>weather_description</th>\n",
       "      <th>date_time</th>\n",
       "      <th>traffic_volume</th>\n",
       "    </tr>\n",
       "  </thead>\n",
       "  <tbody>\n",
       "    <tr>\n",
       "      <th>27020</th>\n",
       "      <td>None</td>\n",
       "      <td>287.46</td>\n",
       "      <td>0.0</td>\n",
       "      <td>0.0</td>\n",
       "      <td>0</td>\n",
       "      <td>Clear</td>\n",
       "      <td>Sky is Clear</td>\n",
       "      <td>2016-10-01 11:00:00</td>\n",
       "      <td>4432</td>\n",
       "    </tr>\n",
       "    <tr>\n",
       "      <th>21136</th>\n",
       "      <td>None</td>\n",
       "      <td>269.29</td>\n",
       "      <td>0.0</td>\n",
       "      <td>0.0</td>\n",
       "      <td>90</td>\n",
       "      <td>Mist</td>\n",
       "      <td>mist</td>\n",
       "      <td>2016-02-07 19:00:00</td>\n",
       "      <td>1618</td>\n",
       "    </tr>\n",
       "    <tr>\n",
       "      <th>1037</th>\n",
       "      <td>None</td>\n",
       "      <td>284.64</td>\n",
       "      <td>0.0</td>\n",
       "      <td>0.0</td>\n",
       "      <td>75</td>\n",
       "      <td>Clouds</td>\n",
       "      <td>broken clouds</td>\n",
       "      <td>2012-11-09 15:00:00</td>\n",
       "      <td>5958</td>\n",
       "    </tr>\n",
       "    <tr>\n",
       "      <th>17026</th>\n",
       "      <td>None</td>\n",
       "      <td>300.20</td>\n",
       "      <td>0.0</td>\n",
       "      <td>0.0</td>\n",
       "      <td>1</td>\n",
       "      <td>Clear</td>\n",
       "      <td>sky is clear</td>\n",
       "      <td>2015-08-01 12:00:00</td>\n",
       "      <td>3926</td>\n",
       "    </tr>\n",
       "    <tr>\n",
       "      <th>43056</th>\n",
       "      <td>None</td>\n",
       "      <td>270.22</td>\n",
       "      <td>0.0</td>\n",
       "      <td>0.0</td>\n",
       "      <td>90</td>\n",
       "      <td>Mist</td>\n",
       "      <td>mist</td>\n",
       "      <td>2018-04-09 00:00:00</td>\n",
       "      <td>427</td>\n",
       "    </tr>\n",
       "  </tbody>\n",
       "</table>\n",
       "</div>"
      ],
      "text/plain": [
       "      holiday    temp  rain_1h  snow_1h  clouds_all weather_main  \\\n",
       "27020    None  287.46      0.0      0.0           0        Clear   \n",
       "21136    None  269.29      0.0      0.0          90         Mist   \n",
       "1037     None  284.64      0.0      0.0          75       Clouds   \n",
       "17026    None  300.20      0.0      0.0           1        Clear   \n",
       "43056    None  270.22      0.0      0.0          90         Mist   \n",
       "\n",
       "      weather_description            date_time  traffic_volume  \n",
       "27020        Sky is Clear  2016-10-01 11:00:00            4432  \n",
       "21136                mist  2016-02-07 19:00:00            1618  \n",
       "1037        broken clouds  2012-11-09 15:00:00            5958  \n",
       "17026        sky is clear  2015-08-01 12:00:00            3926  \n",
       "43056                mist  2018-04-09 00:00:00             427  "
      ]
     },
     "execution_count": 40,
     "metadata": {},
     "output_type": "execute_result"
    }
   ],
   "source": [
    "interstate = pd.read_csv('Metro_Interstate_Traffic_Volume.csv.gz', compression='gzip')\n",
    "\n",
    "interstate.sample(5)"
   ]
  },
  {
   "cell_type": "code",
   "execution_count": 41,
   "metadata": {},
   "outputs": [
    {
     "name": "stdout",
     "output_type": "stream",
     "text": [
      "<class 'pandas.core.frame.DataFrame'>\n",
      "RangeIndex: 48204 entries, 0 to 48203\n",
      "Data columns (total 9 columns):\n",
      " #   Column               Non-Null Count  Dtype  \n",
      "---  ------               --------------  -----  \n",
      " 0   holiday              48204 non-null  object \n",
      " 1   temp                 48204 non-null  float64\n",
      " 2   rain_1h              48204 non-null  float64\n",
      " 3   snow_1h              48204 non-null  float64\n",
      " 4   clouds_all           48204 non-null  int64  \n",
      " 5   weather_main         48204 non-null  object \n",
      " 6   weather_description  48204 non-null  object \n",
      " 7   date_time            48204 non-null  object \n",
      " 8   traffic_volume       48204 non-null  int64  \n",
      "dtypes: float64(3), int64(2), object(4)\n",
      "memory usage: 3.3+ MB\n"
     ]
    }
   ],
   "source": [
    "interstate.info()"
   ]
  },
  {
   "cell_type": "markdown",
   "metadata": {},
   "source": [
    "Observations from the above table:\n",
    "* This dataset has 9 columns and 48204 rows. There are 5 numerical columns and 4 columns with string objects\n",
    "* There are no null or missing values. \n",
    "* And the date_time column is stored as object (this needs to be converted to datetime)\n"
   ]
  },
  {
   "cell_type": "markdown",
   "metadata": {},
   "source": [
    "### 1.2: Exploring Numerical Columns"
   ]
  },
  {
   "cell_type": "code",
   "execution_count": 42,
   "metadata": {},
   "outputs": [
    {
     "data": {
      "text/html": [
       "<div>\n",
       "<style scoped>\n",
       "    .dataframe tbody tr th:only-of-type {\n",
       "        vertical-align: middle;\n",
       "    }\n",
       "\n",
       "    .dataframe tbody tr th {\n",
       "        vertical-align: top;\n",
       "    }\n",
       "\n",
       "    .dataframe thead th {\n",
       "        text-align: right;\n",
       "    }\n",
       "</style>\n",
       "<table border=\"1\" class=\"dataframe\">\n",
       "  <thead>\n",
       "    <tr style=\"text-align: right;\">\n",
       "      <th></th>\n",
       "      <th>temp</th>\n",
       "      <th>rain_1h</th>\n",
       "      <th>snow_1h</th>\n",
       "      <th>clouds_all</th>\n",
       "      <th>traffic_volume</th>\n",
       "    </tr>\n",
       "  </thead>\n",
       "  <tbody>\n",
       "    <tr>\n",
       "      <th>count</th>\n",
       "      <td>48204.000000</td>\n",
       "      <td>48204.000000</td>\n",
       "      <td>48204.000000</td>\n",
       "      <td>48204.000000</td>\n",
       "      <td>48204.000000</td>\n",
       "    </tr>\n",
       "    <tr>\n",
       "      <th>mean</th>\n",
       "      <td>281.205870</td>\n",
       "      <td>0.334264</td>\n",
       "      <td>0.000222</td>\n",
       "      <td>49.362231</td>\n",
       "      <td>3259.818355</td>\n",
       "    </tr>\n",
       "    <tr>\n",
       "      <th>std</th>\n",
       "      <td>13.338232</td>\n",
       "      <td>44.789133</td>\n",
       "      <td>0.008168</td>\n",
       "      <td>39.015750</td>\n",
       "      <td>1986.860670</td>\n",
       "    </tr>\n",
       "    <tr>\n",
       "      <th>min</th>\n",
       "      <td>0.000000</td>\n",
       "      <td>0.000000</td>\n",
       "      <td>0.000000</td>\n",
       "      <td>0.000000</td>\n",
       "      <td>0.000000</td>\n",
       "    </tr>\n",
       "    <tr>\n",
       "      <th>25%</th>\n",
       "      <td>272.160000</td>\n",
       "      <td>0.000000</td>\n",
       "      <td>0.000000</td>\n",
       "      <td>1.000000</td>\n",
       "      <td>1193.000000</td>\n",
       "    </tr>\n",
       "    <tr>\n",
       "      <th>50%</th>\n",
       "      <td>282.450000</td>\n",
       "      <td>0.000000</td>\n",
       "      <td>0.000000</td>\n",
       "      <td>64.000000</td>\n",
       "      <td>3380.000000</td>\n",
       "    </tr>\n",
       "    <tr>\n",
       "      <th>75%</th>\n",
       "      <td>291.806000</td>\n",
       "      <td>0.000000</td>\n",
       "      <td>0.000000</td>\n",
       "      <td>90.000000</td>\n",
       "      <td>4933.000000</td>\n",
       "    </tr>\n",
       "    <tr>\n",
       "      <th>max</th>\n",
       "      <td>310.070000</td>\n",
       "      <td>9831.300000</td>\n",
       "      <td>0.510000</td>\n",
       "      <td>100.000000</td>\n",
       "      <td>7280.000000</td>\n",
       "    </tr>\n",
       "  </tbody>\n",
       "</table>\n",
       "</div>"
      ],
      "text/plain": [
       "               temp       rain_1h       snow_1h    clouds_all  traffic_volume\n",
       "count  48204.000000  48204.000000  48204.000000  48204.000000    48204.000000\n",
       "mean     281.205870      0.334264      0.000222     49.362231     3259.818355\n",
       "std       13.338232     44.789133      0.008168     39.015750     1986.860670\n",
       "min        0.000000      0.000000      0.000000      0.000000        0.000000\n",
       "25%      272.160000      0.000000      0.000000      1.000000     1193.000000\n",
       "50%      282.450000      0.000000      0.000000     64.000000     3380.000000\n",
       "75%      291.806000      0.000000      0.000000     90.000000     4933.000000\n",
       "max      310.070000   9831.300000      0.510000    100.000000     7280.000000"
      ]
     },
     "execution_count": 42,
     "metadata": {},
     "output_type": "execute_result"
    }
   ],
   "source": [
    "interstate.describe()"
   ]
  },
  {
   "cell_type": "markdown",
   "metadata": {},
   "source": [
    "From the summary statistics table, we can see that there were times when the traffic volume is 0. Since the `traffic_volume` records hourly traffic on the interstate 1-94, hours with no traffic at all are probably very late at night. This is an assumption that will be checked out. \n",
    "\n",
    "Let's check if any of the numerical weather indicators are correlated with traffic volume."
   ]
  },
  {
   "cell_type": "code",
   "execution_count": 43,
   "metadata": {},
   "outputs": [
    {
     "data": {
      "text/plain": [
       "temp              0.130299\n",
       "rain_1h           0.004714\n",
       "snow_1h           0.000733\n",
       "clouds_all        0.067054\n",
       "traffic_volume    1.000000\n",
       "Name: traffic_volume, dtype: float64"
      ]
     },
     "execution_count": 43,
     "metadata": {},
     "output_type": "execute_result"
    }
   ],
   "source": [
    "interstate[['temp', 'rain_1h', 'snow_1h', 'clouds_all', 'traffic_volume']].corr()['traffic_volume']"
   ]
  },
  {
   "cell_type": "markdown",
   "metadata": {},
   "source": [
    "There isn't any strong correlation between the weather indicator and traffic volume. But, we can still plot them for visualization."
   ]
  },
  {
   "cell_type": "code",
   "execution_count": 44,
   "metadata": {},
   "outputs": [
    {
     "data": {
      "image/png": "[encoded data removed]",
      "text/plain": [
       "<Figure size 1440x288 with 4 Axes>"
      ]
     },
     "metadata": {
      "needs_background": "light"
     },
     "output_type": "display_data"
    }
   ],
   "source": [
    "weather_indicators = ['temp', 'rain_1h', 'snow_1h', 'clouds_all']\n",
    "\n",
    "plt.figure(figsize=(20,4))\n",
    "\n",
    "for idx, col in enumerate(weather_indicators):\n",
    "    ax = plt.subplot(1, 4, idx+1)\n",
    "    plt.scatter(y=interstate['traffic_volume'], x=interstate[col])\n",
    "    plt.title(col)"
   ]
  },
  {
   "cell_type": "markdown",
   "metadata": {},
   "source": [
    "It's quite clear that non of these features are good indicators of traffic volume on the I-94"
   ]
  },
  {
   "cell_type": "markdown",
   "metadata": {},
   "source": [
    "### 1.3: Inspecting the `date_time` column"
   ]
  },
  {
   "cell_type": "markdown",
   "metadata": {},
   "source": [
    "The `date_time` column contains both date and time of day (hour) of each record. We can use this column to split our dataset into day and night, this will help us to see how traffic volumn differ during various hours of the day and nighttime. \n",
    "\n",
    "For the purpose of this analysis, we will make two assumptions:\n",
    "* Daytime: 7AM to 7PM\n",
    "* Nighttime: 7PM to 7AM\n",
    "\n",
    "This will help to keep things simple, plus both daytime and nighttime have 12 hours each. "
   ]
  },
  {
   "cell_type": "code",
   "execution_count": 45,
   "metadata": {},
   "outputs": [],
   "source": [
    "# Convert `date_time` column to datetime\n",
    "interstate['date_time'] = pd.to_datetime(interstate['date_time'])"
   ]
  },
  {
   "cell_type": "code",
   "execution_count": 46,
   "metadata": {},
   "outputs": [
    {
     "data": {
      "text/plain": [
       "No     24327\n",
       "Yes    23877\n",
       "Name: is_daytime, dtype: int64"
      ]
     },
     "execution_count": 46,
     "metadata": {},
     "output_type": "execute_result"
    }
   ],
   "source": [
    "# Split the data using the date_time column\n",
    "interstate['is_daytime'] = pd.Series()\n",
    "\n",
    "interstate.loc[(interstate['date_time'].dt.hour >= 7) & (interstate['date_time'].dt.hour < 19), 'is_daytime'] = 'Yes'\n",
    "\n",
    "interstate.loc[(interstate['date_time'].dt.hour >= 19) | (interstate['date_time'].dt.hour < 7), 'is_daytime'] = 'No'\n",
    "\n",
    "interstate['is_daytime'].value_counts(dropna=False)"
   ]
  },
  {
   "cell_type": "code",
   "execution_count": 47,
   "metadata": {},
   "outputs": [
    {
     "data": {
      "text/plain": [
       "count    23877.000000\n",
       "mean      4762.047452\n",
       "std       1174.546482\n",
       "min          0.000000\n",
       "25%       4252.000000\n",
       "50%       4820.000000\n",
       "75%       5559.000000\n",
       "max       7280.000000\n",
       "Name: traffic_volume, dtype: float64"
      ]
     },
     "execution_count": 47,
     "metadata": {},
     "output_type": "execute_result"
    }
   ],
   "source": [
    "interstate[interstate['is_daytime'] == 'Yes']['traffic_volume'].describe()"
   ]
  },
  {
   "cell_type": "code",
   "execution_count": 48,
   "metadata": {},
   "outputs": [
    {
     "data": {
      "text/plain": [
       "count    24327.000000\n",
       "mean      1785.377441\n",
       "std       1441.951197\n",
       "min          0.000000\n",
       "25%        530.000000\n",
       "50%       1287.000000\n",
       "75%       2819.000000\n",
       "max       6386.000000\n",
       "Name: traffic_volume, dtype: float64"
      ]
     },
     "execution_count": 48,
     "metadata": {},
     "output_type": "execute_result"
    }
   ],
   "source": [
    "interstate[interstate['is_daytime'] == 'No']['traffic_volume'].describe()"
   ]
  },
  {
   "cell_type": "markdown",
   "metadata": {},
   "source": [
    "Looking at the 2 tables above, it's very clear that traffic during the day is generally higher than during the night, which is no surpise. \n",
    "\n",
    "During the day, there are more than 4252 cars on the road 75% of the time (this is because 25% of the values are less that 4252).\n",
    "\n",
    "And at night, traffic is generally much lower since traffic volume is below 3000; that is only 530 to 2819 cars are on the road most of the time. \n",
    "\n",
    "We can vizualise this distribution with histograms or boxplots."
   ]
  },
  {
   "cell_type": "code",
   "execution_count": 49,
   "metadata": {},
   "outputs": [
    {
     "data": {
      "text/plain": [
       "Text(0.5, 0, 'Traffic Volume')"
      ]
     },
     "execution_count": 49,
     "metadata": {},
     "output_type": "execute_result"
    },
    {
     "data": {
      "image/png": "[encoded data removed]",
      "text/plain": [
       "<Figure size 1008x324 with 2 Axes>"
      ]
     },
     "metadata": {
      "needs_background": "light"
     },
     "output_type": "display_data"
    }
   ],
   "source": [
    "plt.figure(figsize=(14,4.5))\n",
    "\n",
    "df_day = interstate[interstate['is_daytime'] == 'Yes']\n",
    "df_night = interstate[interstate['is_daytime'] == 'No']\n",
    "\n",
    "plt.subplot(1, 2, 1)\n",
    "plt.boxplot(df_day['traffic_volume'])\n",
    "plt.title('Traffic Volume: Day')\n",
    "plt.ylabel('Frequency')\n",
    "plt.xlabel('Traffic Volume')\n",
    "\n",
    "plt.subplot(1, 2, 2)\n",
    "plt.boxplot(df_night['traffic_volume'])\n",
    "plt.title('Traffic Volume: Night')\n",
    "plt.ylabel('Frequency')\n",
    "plt.xlabel('Traffic Volume')"
   ]
  },
  {
   "cell_type": "code",
   "execution_count": 50,
   "metadata": {},
   "outputs": [
    {
     "data": {
      "text/plain": [
       "Text(0.5, 0, 'Traffic Volume')"
      ]
     },
     "execution_count": 50,
     "metadata": {},
     "output_type": "execute_result"
    },
    {
     "data": {
      "image/png": "[encoded data removed]",
      "text/plain": [
       "<Figure size 1296x324 with 3 Axes>"
      ]
     },
     "metadata": {
      "needs_background": "light"
     },
     "output_type": "display_data"
    }
   ],
   "source": [
    "# Check the distribution of traffic for day and night\n",
    "plt.figure(figsize=(18,4.5))\n",
    "\n",
    "plt.subplot(1, 3, 1)\n",
    "plt.hist(df_day['traffic_volume'])\n",
    "plt.title('Traffic Volume: Day')\n",
    "plt.ylabel('Frequency')\n",
    "plt.xlabel('Traffic Volume')\n",
    "\n",
    "plt.subplot(1, 3, 2)\n",
    "plt.hist(df_night['traffic_volume'])\n",
    "plt.title('Traffic Volume: Night')\n",
    "plt.ylabel('Frequency')\n",
    "plt.xlabel('Traffic Volume')\n",
    "\n",
    "plt.subplot(1, 3, 3)\n",
    "plt.hist(interstate['traffic_volume'])\n",
    "plt.title('Traffic Volume: All Hours')\n",
    "plt.ylabel('Frequency')\n",
    "plt.xlabel('Traffic Volume')"
   ]
  },
  {
   "cell_type": "markdown",
   "metadata": {},
   "source": [
    "### 1.3.1: Exploring Traffic Volume by Time of Day"
   ]
  },
  {
   "cell_type": "markdown",
   "metadata": {},
   "source": [
    "Just by thinking about it, we can tell that time of day affects traffic volume because there are rush hours (usually early morning or late in the afternoon).\n",
    "\n",
    "Day of the week may also have some impact of traffic volume. But first, let's see how time of day affects traffic on Interstate 1-94.\n",
    "\n",
    "To better understand traffic volume changes during the day, I'll create a column which groups the daytime date into categories that represent different parts of the day, like\n",
    "* Morning: between 7AM and 11AM\n",
    "* Afternoon: between 11AM to 4PM\n",
    "* Evening: between 4PM and 7PM, etc.\n",
    "\n",
    "This category will help capture the effect of morning and evening rush hour on traffic volume."
   ]
  },
  {
   "cell_type": "code",
   "execution_count": 51,
   "metadata": {},
   "outputs": [],
   "source": [
    "# Create categories for time of day\n",
    "#interstate['time_of_day'] = pd.Series()\n",
    "interstate.loc[(interstate['date_time'].dt.hour >= 4) & (interstate['date_time'].dt.hour < 7), 'time_of_day'] = 'Early Morning' \n",
    "interstate.loc[(interstate['date_time'].dt.hour >= 7) & (interstate['date_time'].dt.hour < 10), 'time_of_day'] = 'Morning' \n",
    "interstate.loc[(interstate['date_time'].dt.hour >= 10) & (interstate['date_time'].dt.hour < 12), 'time_of_day'] = 'Noon' \n",
    "interstate.loc[(interstate['date_time'].dt.hour >= 12) & (interstate['date_time'].dt.hour < 16), 'time_of_day'] = 'Afternoon' \n",
    "interstate.loc[(interstate['date_time'].dt.hour >= 16) & (interstate['date_time'].dt.hour < 19), 'time_of_day'] = 'Evening'\n",
    "interstate.loc[(interstate['date_time'].dt.hour >= 19) & (interstate['date_time'].dt.hour < 22), 'time_of_day'] = 'Late Evening'  \n",
    "interstate.loc[(interstate['date_time'].dt.hour >= 22) | (interstate['date_time'].dt.hour < 4), 'time_of_day'] = 'Night' "
   ]
  },
  {
   "cell_type": "code",
   "execution_count": 52,
   "metadata": {},
   "outputs": [
    {
     "data": {
      "text/plain": [
       "Night            12164\n",
       "Afternoon         7763\n",
       "Early Morning     6241\n",
       "Morning           6177\n",
       "Late Evening      5922\n",
       "Evening           5907\n",
       "Noon              4030\n",
       "Name: time_of_day, dtype: int64"
      ]
     },
     "execution_count": 52,
     "metadata": {},
     "output_type": "execute_result"
    }
   ],
   "source": [
    "interstate['time_of_day'].value_counts(dropna=False)"
   ]
  },
  {
   "cell_type": "code",
   "execution_count": 53,
   "metadata": {},
   "outputs": [],
   "source": [
    "traffic_by_time_of_day = interstate.groupby('time_of_day').mean()['traffic_volume'].sort_values(ascending=False)"
   ]
  },
  {
   "cell_type": "code",
   "execution_count": 54,
   "metadata": {},
   "outputs": [
    {
     "data": {
      "text/plain": [
       "<AxesSubplot:xlabel='traffic_volume', ylabel='time_of_day'>"
      ]
     },
     "execution_count": 54,
     "metadata": {},
     "output_type": "execute_result"
    },
    {
     "data": {
      "image/png": "[encoded data removed]",
      "text/plain": [
       "<Figure size 504x288 with 1 Axes>"
      ]
     },
     "metadata": {
      "needs_background": "light"
     },
     "output_type": "display_data"
    }
   ],
   "source": [
    "plt.figure(figsize=(7,4))\n",
    "sns.barplot(x=traffic_by_time_of_day, y=traffic_by_time_of_day.index, orient='h')"
   ]
  },
  {
   "cell_type": "markdown",
   "metadata": {},
   "source": [
    "### 1.3.2: Exploring Traffic Volume by Day of Week"
   ]
  },
  {
   "cell_type": "markdown",
   "metadata": {},
   "source": [
    "Days of the week also have an impact on traffic, for instance, some days (like work days) will have higher traffic than week days and holidays. Because people have to get to work and school. So, I'll inspect the dataset to see how different days of the week affect traffic on the I-94"
   ]
  },
  {
   "cell_type": "code",
   "execution_count": 55,
   "metadata": {},
   "outputs": [
    {
     "data": {
      "text/plain": [
       "day_of_week\n",
       "Sunday       2368.588329\n",
       "Saturday     2773.638120\n",
       "Monday       3309.387161\n",
       "Tuesday      3488.555799\n",
       "Wednesday    3583.196681\n",
       "Thursday     3637.899663\n",
       "Friday       3656.358836\n",
       "Name: traffic_volume, dtype: float64"
      ]
     },
     "execution_count": 55,
     "metadata": {},
     "output_type": "execute_result"
    }
   ],
   "source": [
    "# Create a column for days of the week\n",
    "interstate['day_of_week'] = interstate['date_time'].dt.day_name()\n",
    "\n",
    "interstate.groupby('day_of_week').mean()['traffic_volume'].sort_values(ascending=True)"
   ]
  },
  {
   "cell_type": "code",
   "execution_count": 56,
   "metadata": {},
   "outputs": [
    {
     "data": {
      "text/plain": [
       "[<matplotlib.lines.Line2D at 0x158e2ce7ee0>]"
      ]
     },
     "execution_count": 56,
     "metadata": {},
     "output_type": "execute_result"
    },
    {
     "data": {
      "image/png": "[encoded data removed]",
      "text/plain": [
       "<Figure size 432x288 with 1 Axes>"
      ]
     },
     "metadata": {
      "needs_background": "light"
     },
     "output_type": "display_data"
    }
   ],
   "source": [
    "plt.plot(interstate.groupby('day_of_week').mean()['traffic_volume'].sort_values(ascending=True))"
   ]
  },
  {
   "cell_type": "markdown",
   "metadata": {},
   "source": [
    "Looking at the chart above, we can truly see how weekdays affect traffic on the I-94. Apparently weekends (Sunday and Saturday) see the least traffic, while weekdays (Mondays to Fridays) see the most traffic.\n",
    "\n",
    "And the traffic volume shoots up on Monday and continues to increase til Friday.\n",
    "\n",
    "We can also see how this varies for day and night."
   ]
  },
  {
   "cell_type": "code",
   "execution_count": 57,
   "metadata": {},
   "outputs": [
    {
     "data": {
      "text/plain": [
       "Text(0.5, 1.0, 'Traffic Volume: Night')"
      ]
     },
     "execution_count": 57,
     "metadata": {},
     "output_type": "execute_result"
    },
    {
     "data": {
      "image/png": "[encoded data removed]",
      "text/plain": [
       "<Figure size 1008x324 with 2 Axes>"
      ]
     },
     "metadata": {
      "needs_background": "light"
     },
     "output_type": "display_data"
    }
   ],
   "source": [
    "df_day = interstate[interstate['is_daytime'] == 'Yes']\n",
    "df_night = interstate[interstate['is_daytime'] == 'No']\n",
    "\n",
    "plt.figure(figsize=(14,4.5))\n",
    "\n",
    "plt.subplot(1, 2, 1)\n",
    "plt.plot(df_day.groupby('day_of_week').mean()['traffic_volume'].sort_values(ascending=True))\n",
    "plt.title('Traffic Volume: Day')\n",
    "\n",
    "plt.subplot(1, 2, 2)\n",
    "plt.plot(df_night.groupby('day_of_week').mean()['traffic_volume'].sort_values(ascending=True))\n",
    "plt.title('Traffic Volume: Night')"
   ]
  },
  {
   "cell_type": "markdown",
   "metadata": {},
   "source": [
    "The pattern is not different from what we saw earlier. However, we can see that during daytime on weekdays, traffic volume reaches above 5000, which is more than double the traffic at night."
   ]
  },
  {
   "cell_type": "markdown",
   "metadata": {},
   "source": [
    "### 1.3.3: Exploring Traffic Volume by Month"
   ]
  },
  {
   "cell_type": "markdown",
   "metadata": {},
   "source": [
    "Months and seasons of the year can also affect how many cars are on the road, so we will group our data by month as see how it impacts traffic volume."
   ]
  },
  {
   "cell_type": "code",
   "execution_count": 58,
   "metadata": {},
   "outputs": [
    {
     "data": {
      "text/plain": [
       "[<matplotlib.lines.Line2D at 0x158e55dfdf0>]"
      ]
     },
     "execution_count": 58,
     "metadata": {},
     "output_type": "execute_result"
    },
    {
     "data": {
      "image/png": "[encoded data removed]",
      "text/plain": [
       "<Figure size 432x288 with 1 Axes>"
      ]
     },
     "metadata": {
      "needs_background": "light"
     },
     "output_type": "display_data"
    }
   ],
   "source": [
    "# Create a column for days of the week\n",
    "interstate['month'] = interstate['date_time'].dt.month\n",
    "\n",
    "plt.plot(interstate.groupby('month').mean()['traffic_volume'])"
   ]
  },
  {
   "cell_type": "markdown",
   "metadata": {},
   "source": [
    "From the above plot, we can see that winter months (November, December and January) have the lowest traffic volumes, but there's a significant dip in traffic volume around July. \n",
    "\n",
    "This is something to investigate further. To do this, I'll plot data for the July month of every year in the dataset."
   ]
  },
  {
   "cell_type": "code",
   "execution_count": 59,
   "metadata": {},
   "outputs": [
    {
     "data": {
      "text/plain": [
       "[<matplotlib.lines.Line2D at 0x158e5629f10>]"
      ]
     },
     "execution_count": 59,
     "metadata": {},
     "output_type": "execute_result"
    },
    {
     "data": {
      "image/png": "[encoded data removed]",
      "text/plain": [
       "<Figure size 432x288 with 1 Axes>"
      ]
     },
     "metadata": {
      "needs_background": "light"
     },
     "output_type": "display_data"
    }
   ],
   "source": [
    "# Create a year column for grouping data\n",
    "interstate['year'] = interstate['date_time'].dt.year\n",
    "\n",
    "july = interstate[interstate['month']==7]\n",
    "\n",
    "plt.plot(july.groupby('year').mean()['traffic_volume'])"
   ]
  },
  {
   "cell_type": "markdown",
   "metadata": {},
   "source": [
    "So, the drop in traffic volume happened in July 2016. \n",
    "\n",
    "After some Google search, I discovered that I-94 was closed for several days in July 2016 for road construction and the RethinkingI-94 project. \n",
    "\n",
    "This explains the significant drop in traffic during this period.\n",
    "\n",
    "Also, from the descriptive statistics of the `traffic_volume` column, we saw that the mininum value is 0, which we can see is are two occasions in July of 2016."
   ]
  },
  {
   "cell_type": "code",
   "execution_count": 60,
   "metadata": {},
   "outputs": [
    {
     "data": {
      "text/html": [
       "<div>\n",
       "<style scoped>\n",
       "    .dataframe tbody tr th:only-of-type {\n",
       "        vertical-align: middle;\n",
       "    }\n",
       "\n",
       "    .dataframe tbody tr th {\n",
       "        vertical-align: top;\n",
       "    }\n",
       "\n",
       "    .dataframe thead th {\n",
       "        text-align: right;\n",
       "    }\n",
       "</style>\n",
       "<table border=\"1\" class=\"dataframe\">\n",
       "  <thead>\n",
       "    <tr style=\"text-align: right;\">\n",
       "      <th></th>\n",
       "      <th>holiday</th>\n",
       "      <th>temp</th>\n",
       "      <th>rain_1h</th>\n",
       "      <th>snow_1h</th>\n",
       "      <th>clouds_all</th>\n",
       "      <th>weather_main</th>\n",
       "      <th>weather_description</th>\n",
       "      <th>date_time</th>\n",
       "      <th>traffic_volume</th>\n",
       "      <th>is_daytime</th>\n",
       "      <th>time_of_day</th>\n",
       "      <th>day_of_week</th>\n",
       "      <th>month</th>\n",
       "      <th>year</th>\n",
       "    </tr>\n",
       "  </thead>\n",
       "  <tbody>\n",
       "    <tr>\n",
       "      <th>25186</th>\n",
       "      <td>None</td>\n",
       "      <td>296.68</td>\n",
       "      <td>0.0</td>\n",
       "      <td>0.0</td>\n",
       "      <td>40</td>\n",
       "      <td>Rain</td>\n",
       "      <td>light rain</td>\n",
       "      <td>2016-07-23 18:00:00</td>\n",
       "      <td>0</td>\n",
       "      <td>Yes</td>\n",
       "      <td>Evening</td>\n",
       "      <td>Saturday</td>\n",
       "      <td>7</td>\n",
       "      <td>2016</td>\n",
       "    </tr>\n",
       "    <tr>\n",
       "      <th>25191</th>\n",
       "      <td>None</td>\n",
       "      <td>295.90</td>\n",
       "      <td>0.0</td>\n",
       "      <td>0.0</td>\n",
       "      <td>90</td>\n",
       "      <td>Haze</td>\n",
       "      <td>haze</td>\n",
       "      <td>2016-07-23 23:00:00</td>\n",
       "      <td>0</td>\n",
       "      <td>No</td>\n",
       "      <td>Night</td>\n",
       "      <td>Saturday</td>\n",
       "      <td>7</td>\n",
       "      <td>2016</td>\n",
       "    </tr>\n",
       "  </tbody>\n",
       "</table>\n",
       "</div>"
      ],
      "text/plain": [
       "      holiday    temp  rain_1h  snow_1h  clouds_all weather_main  \\\n",
       "25186    None  296.68      0.0      0.0          40         Rain   \n",
       "25191    None  295.90      0.0      0.0          90         Haze   \n",
       "\n",
       "      weather_description           date_time  traffic_volume is_daytime  \\\n",
       "25186          light rain 2016-07-23 18:00:00               0        Yes   \n",
       "25191                haze 2016-07-23 23:00:00               0         No   \n",
       "\n",
       "      time_of_day day_of_week  month  year  \n",
       "25186     Evening    Saturday      7  2016  \n",
       "25191       Night    Saturday      7  2016  "
      ]
     },
     "execution_count": 60,
     "metadata": {},
     "output_type": "execute_result"
    }
   ],
   "source": [
    "interstate[interstate['traffic_volume']==0]"
   ]
  },
  {
   "cell_type": "markdown",
   "metadata": {},
   "source": [
    "### 1.3.4: Exploring Traffic Volume by Hour"
   ]
  },
  {
   "cell_type": "markdown",
   "metadata": {},
   "source": [
    "For this specific analysis, I'll be working with only data for daytime because this is when there is the most traffic volume, plus I also want to identify rush hour during week days."
   ]
  },
  {
   "cell_type": "code",
   "execution_count": 61,
   "metadata": {},
   "outputs": [
    {
     "data": {
      "text/plain": [
       "Yes    17085\n",
       "No      6792\n",
       "Name: is_weekday, dtype: int64"
      ]
     },
     "execution_count": 61,
     "metadata": {},
     "output_type": "execute_result"
    }
   ],
   "source": [
    "# Create a column for hour\n",
    "df_day['hour'] = df_day['date_time'].dt.hour\n",
    "\n",
    "df_day['is_weekday'] = 'Yes'\n",
    "\n",
    "df_day.loc[(df_day['day_of_week'] == 'Saturday') | (df_day['day_of_week'] == 'Sunday'), 'is_weekday'] = 'No'\n",
    "\n",
    "df_day['is_weekday'].value_counts(dropna=False)"
   ]
  },
  {
   "cell_type": "code",
   "execution_count": 62,
   "metadata": {},
   "outputs": [
    {
     "data": {
      "text/plain": [
       "Text(0.5, 1.0, 'Traffic Volume by Hour on Weekends')"
      ]
     },
     "execution_count": 62,
     "metadata": {},
     "output_type": "execute_result"
    },
    {
     "data": {
      "image/png": "[encoded data removed]",
      "text/plain": [
       "<Figure size 1008x324 with 2 Axes>"
      ]
     },
     "metadata": {
      "needs_background": "light"
     },
     "output_type": "display_data"
    }
   ],
   "source": [
    "weekdays = df_day[df_day['is_weekday'] == 'Yes']\n",
    "weekends = df_day[df_day['is_weekday'] == 'No']\n",
    "\n",
    "plt.figure(figsize=(14,4.5))\n",
    "\n",
    "plt.subplot(1, 2, 1)\n",
    "plt.xlim(6,20)\n",
    "plt.ylim(1500,6500)\n",
    "plt.plot(weekdays.groupby('hour')['traffic_volume'].mean())\n",
    "plt.title('Traffic Volume by Hour on Weekdays')\n",
    "\n",
    "plt.subplot(1, 2, 2)\n",
    "plt.xlim(6,20)\n",
    "plt.ylim(1500,6500)\n",
    "plt.plot(weekends.groupby('hour')['traffic_volume'].mean())\n",
    "plt.title('Traffic Volume by Hour on Weekends')"
   ]
  },
  {
   "cell_type": "markdown",
   "metadata": {},
   "source": [
    "From the above charts, I can conclusively say that traffic volume on I-94 is significantly higher on weekdays than on weekends.\n",
    "\n",
    "And on weekdays; \n",
    "* morning rush hour is between 7AM and 8AM \n",
    "* evening rush hour is between 3PM and 5PM"
   ]
  },
  {
   "cell_type": "markdown",
   "metadata": {},
   "source": [
    "To summarize what I've observed so far from time-related indicators of traffic volme on I-94:\n",
    "\n",
    "* Traffic is usually heaviest during warm months (March–October) and lowest to cold months (November–February).\n",
    "* Traffic is usually heavier on weekdays compared to weekends.\n",
    "* On weekdays, the pick rush hours are around 7AM and 4PM."
   ]
  },
  {
   "cell_type": "markdown",
   "metadata": {},
   "source": [
    "### 1.4: Exploring Categorical Columns"
   ]
  },
  {
   "cell_type": "code",
   "execution_count": 63,
   "metadata": {},
   "outputs": [
    {
     "data": {
      "text/html": [
       "<div>\n",
       "<style scoped>\n",
       "    .dataframe tbody tr th:only-of-type {\n",
       "        vertical-align: middle;\n",
       "    }\n",
       "\n",
       "    .dataframe tbody tr th {\n",
       "        vertical-align: top;\n",
       "    }\n",
       "\n",
       "    .dataframe thead th {\n",
       "        text-align: right;\n",
       "    }\n",
       "</style>\n",
       "<table border=\"1\" class=\"dataframe\">\n",
       "  <thead>\n",
       "    <tr style=\"text-align: right;\">\n",
       "      <th></th>\n",
       "      <th>holiday</th>\n",
       "      <th>weather_main</th>\n",
       "      <th>weather_description</th>\n",
       "      <th>is_daytime</th>\n",
       "      <th>time_of_day</th>\n",
       "      <th>day_of_week</th>\n",
       "    </tr>\n",
       "  </thead>\n",
       "  <tbody>\n",
       "    <tr>\n",
       "      <th>count</th>\n",
       "      <td>48204</td>\n",
       "      <td>48204</td>\n",
       "      <td>48204</td>\n",
       "      <td>48204</td>\n",
       "      <td>48204</td>\n",
       "      <td>48204</td>\n",
       "    </tr>\n",
       "    <tr>\n",
       "      <th>unique</th>\n",
       "      <td>12</td>\n",
       "      <td>11</td>\n",
       "      <td>38</td>\n",
       "      <td>2</td>\n",
       "      <td>7</td>\n",
       "      <td>7</td>\n",
       "    </tr>\n",
       "    <tr>\n",
       "      <th>top</th>\n",
       "      <td>None</td>\n",
       "      <td>Clouds</td>\n",
       "      <td>sky is clear</td>\n",
       "      <td>No</td>\n",
       "      <td>Night</td>\n",
       "      <td>Monday</td>\n",
       "    </tr>\n",
       "    <tr>\n",
       "      <th>freq</th>\n",
       "      <td>48143</td>\n",
       "      <td>15164</td>\n",
       "      <td>11665</td>\n",
       "      <td>24327</td>\n",
       "      <td>12164</td>\n",
       "      <td>7072</td>\n",
       "    </tr>\n",
       "  </tbody>\n",
       "</table>\n",
       "</div>"
      ],
      "text/plain": [
       "       holiday weather_main weather_description is_daytime time_of_day  \\\n",
       "count    48204        48204               48204      48204       48204   \n",
       "unique      12           11                  38          2           7   \n",
       "top       None       Clouds        sky is clear         No       Night   \n",
       "freq     48143        15164               11665      24327       12164   \n",
       "\n",
       "       day_of_week  \n",
       "count        48204  \n",
       "unique           7  \n",
       "top         Monday  \n",
       "freq          7072  "
      ]
     },
     "execution_count": 63,
     "metadata": {},
     "output_type": "execute_result"
    }
   ],
   "source": [
    "interstate.select_dtypes(include='O').describe()"
   ]
  },
  {
   "cell_type": "code",
   "execution_count": 64,
   "metadata": {},
   "outputs": [
    {
     "data": {
      "text/plain": [
       "array(['None', 'Columbus Day', 'Veterans Day', 'Thanksgiving Day',\n",
       "       'Christmas Day', 'New Years Day', 'Washingtons Birthday',\n",
       "       'Memorial Day', 'Independence Day', 'State Fair', 'Labor Day',\n",
       "       'Martin Luther King Jr Day'], dtype=object)"
      ]
     },
     "execution_count": 64,
     "metadata": {},
     "output_type": "execute_result"
    }
   ],
   "source": [
    "interstate.holiday.unique()"
   ]
  },
  {
   "cell_type": "code",
   "execution_count": 65,
   "metadata": {},
   "outputs": [
    {
     "data": {
      "text/plain": [
       "None                         99.873454\n",
       "Labor Day                     0.014522\n",
       "Thanksgiving Day              0.012447\n",
       "Christmas Day                 0.012447\n",
       "New Years Day                 0.012447\n",
       "Martin Luther King Jr Day     0.012447\n",
       "Columbus Day                  0.010373\n",
       "Veterans Day                  0.010373\n",
       "Washingtons Birthday          0.010373\n",
       "Memorial Day                  0.010373\n",
       "Independence Day              0.010373\n",
       "State Fair                    0.010373\n",
       "Name: holiday, dtype: float64"
      ]
     },
     "execution_count": 65,
     "metadata": {},
     "output_type": "execute_result"
    }
   ],
   "source": [
    "interstate.holiday.value_counts(normalize=True)*100"
   ]
  },
  {
   "cell_type": "markdown",
   "metadata": {},
   "source": [
    "99% of the values in the `holiday` are None, and these are days with no holiday. There's very little variation in this column."
   ]
  },
  {
   "cell_type": "code",
   "execution_count": 66,
   "metadata": {},
   "outputs": [
    {
     "data": {
      "text/plain": [
       "Index(['holiday', 'temp', 'rain_1h', 'snow_1h', 'clouds_all', 'weather_main',\n",
       "       'weather_description', 'date_time', 'traffic_volume', 'is_daytime',\n",
       "       'time_of_day', 'day_of_week', 'month', 'year'],\n",
       "      dtype='object')"
      ]
     },
     "execution_count": 66,
     "metadata": {},
     "output_type": "execute_result"
    }
   ],
   "source": [
    "interstate.columns"
   ]
  },
  {
   "cell_type": "code",
   "execution_count": 67,
   "metadata": {},
   "outputs": [
    {
     "data": {
      "text/plain": [
       "Clouds          15164\n",
       "Clear           13391\n",
       "Mist             5950\n",
       "Rain             5672\n",
       "Snow             2876\n",
       "Drizzle          1821\n",
       "Haze             1360\n",
       "Thunderstorm     1034\n",
       "Fog               912\n",
       "Smoke              20\n",
       "Squall              4\n",
       "Name: weather_main, dtype: int64"
      ]
     },
     "execution_count": 67,
     "metadata": {},
     "output_type": "execute_result"
    }
   ],
   "source": [
    "interstate.weather_main.value_counts()"
   ]
  },
  {
   "cell_type": "markdown",
   "metadata": {},
   "source": [
    "Let's find out each weather type affects traffic volume."
   ]
  },
  {
   "cell_type": "code",
   "execution_count": 68,
   "metadata": {},
   "outputs": [
    {
     "data": {
      "text/plain": [
       "<AxesSubplot:ylabel='weather_main'>"
      ]
     },
     "execution_count": 68,
     "metadata": {},
     "output_type": "execute_result"
    },
    {
     "data": {
      "image/png": "[encoded data removed]",
      "text/plain": [
       "<Figure size 432x288 with 1 Axes>"
      ]
     },
     "metadata": {
      "needs_background": "light"
     },
     "output_type": "display_data"
    }
   ],
   "source": [
    "traffic_by_weather = interstate.groupby('weather_main').mean()\n",
    "\n",
    "traffic_by_weather['traffic_volume'].sort_values(ascending=True).plot.barh()"
   ]
  },
  {
   "cell_type": "markdown",
   "metadata": {},
   "source": [
    "There is no weather type with traffic more than 5000. Squall has the highest impact on traffic, bringing it down to less than 2500.\n",
    "\n",
    "There's a final column which gives us more granular weather description, let's check that out."
   ]
  },
  {
   "cell_type": "code",
   "execution_count": 69,
   "metadata": {},
   "outputs": [
    {
     "data": {
      "text/plain": [
       "<AxesSubplot:ylabel='weather_description'>"
      ]
     },
     "execution_count": 69,
     "metadata": {},
     "output_type": "execute_result"
    },
    {
     "data": {
      "image/png": "[encoded data removed]",
      "text/plain": [
       "<Figure size 360x720 with 1 Axes>"
      ]
     },
     "metadata": {
      "needs_background": "light"
     },
     "output_type": "display_data"
    }
   ],
   "source": [
    "traffic_by_weather2 = interstate.groupby('weather_description').mean()\n",
    "\n",
    "traffic_by_weather2['traffic_volume'].sort_values(ascending=True).plot.barh(figsize=(5,10))"
   ]
  },
  {
   "cell_type": "markdown",
   "metadata": {},
   "source": [
    "By looking at the chart above, we can't really tell how bad and good weather impact traffic volume. "
   ]
  },
  {
   "cell_type": "code",
   "execution_count": 72,
   "metadata": {},
   "outputs": [
    {
     "data": {
      "text/plain": [
       "weather_description\n",
       "thunderstorm                        2843.752000\n",
       "proximity thunderstorm with rain    2819.269231\n",
       "thunderstorm with light drizzle     2779.266667\n",
       "thunderstorm with light rain        2776.833333\n",
       "snow                                2712.122867\n",
       "fog                                 2703.720395\n",
       "thunderstorm with heavy rain        2631.142857\n",
       "very heavy rain                     2568.833333\n",
       "thunderstorm with drizzle           2297.000000\n",
       "SQUALLS                             2061.750000\n",
       "Name: traffic_volume, dtype: float64"
      ]
     },
     "execution_count": 72,
     "metadata": {},
     "output_type": "execute_result"
    }
   ],
   "source": [
    "traffic_by_weather2['traffic_volume'].sort_values(ascending=False).tail(10)"
   ]
  },
  {
   "cell_type": "code",
   "execution_count": null,
   "metadata": {},
   "outputs": [],
   "source": [
    "# Export new data to csv file\n",
    "interstate.to_csv('new_interstate.csv')"
   ]
  },
  {
   "cell_type": "markdown",
   "metadata": {},
   "source": [
    "## Conclusion"
   ]
  },
  {
   "cell_type": "markdown",
   "metadata": {},
   "source": [
    "Through this analysis of the Minneapolis-St Paul, MN traffic dataset for the westbound I-94, I successfully identified noteworthy indicators of heavy traffic patterns. The analysis revealed that time is a significant traffic indicator, with clear patterns observed:\n",
    "\n",
    "`Time of Year`: I observed that traffic tends to peak during the warmer months, spanning from March to October. Conversely, traffic volume dips during the colder months from November to February.\n",
    "\n",
    "`Day of the Week`: This analysis revealed that weekdays consistently experience higher traffic compared to weekends. Furthermore, specific rush hours—around 7 AM and 4 PM—emerge as key times of heightened traffic.\n",
    "\n",
    "`Weather Influence`: The impact of weather on traffic volume is undeniable. I noticed that during adverse weather conditions, traffic volume tends to decrease, indicating a connection between weather-related factors and reduced road congestion."
   ]
  }
 ],
 "metadata": {
  "kernelspec": {
   "display_name": "Python 3",
   "language": "python",
   "name": "python3"
  },
  "language_info": {
   "codemirror_mode": {
    "name": "ipython",
    "version": 3
   },
   "file_extension": ".py",
   "mimetype": "text/x-python",
   "name": "python",
   "nbconvert_exporter": "python",
   "pygments_lexer": "ipython3",
   "version": "3.9.0"
  },
  "orig_nbformat": 4
 },
 "nbformat": 4,
 "nbformat_minor": 2
}
